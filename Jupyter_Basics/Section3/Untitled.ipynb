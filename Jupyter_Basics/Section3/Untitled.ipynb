{
 "cells": [
  {
   "cell_type": "markdown",
   "id": "67e1456a-d830-45e6-8ac2-bc521b71afc4",
   "metadata": {},
   "source": [
    "# First Program"
   ]
  },
  {
   "cell_type": "markdown",
   "id": "7a74bb28-9056-4f6d-bfe2-70f376d036de",
   "metadata": {},
   "source": [
    "**Program:** A program is a procedure that tells the computer how to succeed a given task."
   ]
  },
  {
   "cell_type": "code",
   "execution_count": 2,
   "id": "ee176d40-5d93-496c-85d5-bcddd093cc2a",
   "metadata": {},
   "outputs": [
    {
     "name": "stdout",
     "output_type": "stream",
     "text": [
      "Hello World\n"
     ]
    }
   ],
   "source": [
    "print(\"Hello World\")"
   ]
  },
  {
   "cell_type": "code",
   "execution_count": 5,
   "id": "ac6204d1-45da-46e2-a1a2-4faa09f1b547",
   "metadata": {},
   "outputs": [
    {
     "name": "stdout",
     "output_type": "stream",
     "text": [
      "This is second line of code\n"
     ]
    }
   ],
   "source": [
    "print(\"This is second line of code\")"
   ]
  },
  {
   "cell_type": "code",
   "execution_count": 6,
   "id": "ac3a4f5e-03cf-46d5-b4a1-3bb7f6d81bb0",
   "metadata": {},
   "outputs": [
    {
     "name": "stdout",
     "output_type": "stream",
     "text": [
      "2345\n"
     ]
    }
   ],
   "source": [
    "print(2345)"
   ]
  },
  {
   "cell_type": "code",
   "execution_count": 4,
   "id": "b58fdf5b-0445-4772-af34-0a835d63d329",
   "metadata": {},
   "outputs": [
    {
     "data": {
      "text/plain": [
       "7"
      ]
     },
     "execution_count": 4,
     "metadata": {},
     "output_type": "execute_result"
    }
   ],
   "source": [
    "5 + 2"
   ]
  },
  {
   "cell_type": "code",
   "execution_count": null,
   "id": "0dd23548-e4af-4a2f-8af0-1a13d99c76c6",
   "metadata": {},
   "outputs": [],
   "source": []
  }
 ],
 "metadata": {
  "kernelspec": {
   "display_name": "Python 3 (ipykernel)",
   "language": "python",
   "name": "python3"
  },
  "language_info": {
   "codemirror_mode": {
    "name": "ipython",
    "version": 3
   },
   "file_extension": ".py",
   "mimetype": "text/x-python",
   "name": "python",
   "nbconvert_exporter": "python",
   "pygments_lexer": "ipython3",
   "version": "3.12.4"
  }
 },
 "nbformat": 4,
 "nbformat_minor": 5
}
