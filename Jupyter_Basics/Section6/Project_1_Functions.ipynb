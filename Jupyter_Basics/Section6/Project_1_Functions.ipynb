{
 "cells": [
  {
   "cell_type": "markdown",
   "id": "caa9dfdf-7276-4b6a-9355-b3a75a7a8da1",
   "metadata": {},
   "source": [
    "## Project 1 - Functions"
   ]
  },
  {
   "cell_type": "code",
   "execution_count": 3,
   "id": "f0d12267-98f2-47b2-a7be-bbf6c8a0dbfc",
   "metadata": {},
   "outputs": [],
   "source": [
    "# import the module -> turtle\n",
    "\n",
    "import turtle"
   ]
  },
  {
   "cell_type": "code",
   "execution_count": 6,
   "id": "7c9959a1-50d3-4375-bd66-a78ce88889eb",
   "metadata": {},
   "outputs": [],
   "source": [
    "t = turtle.Turtle()"
   ]
  },
  {
   "cell_type": "code",
   "execution_count": 3,
   "id": "8830c10b-abf4-480d-ab81-4e3a79c82d29",
   "metadata": {},
   "outputs": [],
   "source": [
    "t.fd(100)\n",
    "t.lt(90)\n",
    "t.fd(300)"
   ]
  },
  {
   "cell_type": "code",
   "execution_count": 4,
   "id": "6fee674f-2a95-46ef-9ccd-ccf7169bf81a",
   "metadata": {},
   "outputs": [],
   "source": [
    "t.lt(90)"
   ]
  },
  {
   "cell_type": "code",
   "execution_count": 5,
   "id": "0cb761ff-46c4-4e8f-90ca-80f4d942f33b",
   "metadata": {},
   "outputs": [],
   "source": [
    "t.fd(100)"
   ]
  },
  {
   "cell_type": "code",
   "execution_count": 6,
   "id": "4df70d65-e8ef-4e4d-9225-d58bdf62a6c5",
   "metadata": {},
   "outputs": [],
   "source": [
    "t.lt(90)"
   ]
  },
  {
   "cell_type": "code",
   "execution_count": 7,
   "id": "01da260f-219d-4828-ae5a-0feb91912f14",
   "metadata": {},
   "outputs": [],
   "source": [
    "t.fd(300)"
   ]
  },
  {
   "cell_type": "code",
   "execution_count": 9,
   "id": "c28495ef-e8b7-48a8-8159-cc0c53dd3dfd",
   "metadata": {},
   "outputs": [],
   "source": [
    "# Clear the screen\n",
    "\n",
    "t.clear()"
   ]
  },
  {
   "cell_type": "code",
   "execution_count": 11,
   "id": "d4eeca1f-b301-4d3a-ad07-b41558fd5460",
   "metadata": {},
   "outputs": [],
   "source": [
    "turtle.resetscreen()"
   ]
  },
  {
   "cell_type": "code",
   "execution_count": 13,
   "id": "67d951fd-c62e-4704-a1f0-082c93553c87",
   "metadata": {},
   "outputs": [],
   "source": [
    "t.fd(100)"
   ]
  },
  {
   "cell_type": "code",
   "execution_count": 14,
   "id": "b9d3bd1b-814e-49b7-910e-e8e5644f572b",
   "metadata": {},
   "outputs": [],
   "source": [
    "t.lt(90)"
   ]
  },
  {
   "cell_type": "code",
   "execution_count": 15,
   "id": "db1cf923-832f-4090-8dc7-6523d67fd95d",
   "metadata": {},
   "outputs": [],
   "source": [
    "t.fd(100)\n",
    "t.lt(90)"
   ]
  },
  {
   "cell_type": "code",
   "execution_count": 16,
   "id": "02dc3d41-5d14-4d8a-8b13-4481f63e8791",
   "metadata": {},
   "outputs": [],
   "source": [
    "t.fd(100)\n",
    "t.lt(90)"
   ]
  },
  {
   "cell_type": "code",
   "execution_count": 17,
   "id": "b084d6e6-81c6-4660-8e3f-e004e92111af",
   "metadata": {},
   "outputs": [],
   "source": [
    "t.fd(100)\n",
    "t.lt(90)"
   ]
  },
  {
   "cell_type": "code",
   "execution_count": 19,
   "id": "1497b85f-a640-430e-b7c8-8475b91717c2",
   "metadata": {},
   "outputs": [],
   "source": [
    "turtle.resetscreen()\n",
    "\n",
    "for i in range(4):\n",
    "    t.fd(100)\n",
    "    t.lt(90)  "
   ]
  },
  {
   "cell_type": "markdown",
   "id": "b77882c4-1654-4a62-8e78-d6d2e0c00fcf",
   "metadata": {},
   "source": [
    "**Example 1:**\n",
    "\n",
    "Create a square with function -> **square**\n",
    "\n",
    "Parameters: turtle object, length in pixels"
   ]
  },
  {
   "cell_type": "code",
   "execution_count": 33,
   "id": "d3ec9b27-03b9-4e59-b3b9-3589fff0d53d",
   "metadata": {},
   "outputs": [],
   "source": [
    "# square\n",
    "\n",
    "def square(t, d, is_screen_reset):\n",
    "    \"\"\"\n",
    "    It draws square with turtle.\n",
    "    Parameters: turtle t, int d, bool is_screen_reset\n",
    "    Returns: none\n",
    "    \"\"\"\n",
    "    # reset screen\n",
    "    if is_screen_reset == True:\n",
    "        reset()\n",
    "\n",
    "    # draw square\n",
    "    for i in range(4):\n",
    "        t.fd(d)\n",
    "        t.lt(90) \n",
    "    "
   ]
  },
  {
   "cell_type": "code",
   "execution_count": 8,
   "id": "3b7dcd22-d8b7-4d45-9211-05d74bcfe2a1",
   "metadata": {},
   "outputs": [],
   "source": [
    "# reset\n",
    "\n",
    "def reset():\n",
    "    turtle.resetscreen()"
   ]
  },
  {
   "cell_type": "code",
   "execution_count": 24,
   "id": "fb6e48da-796c-4cd5-af09-57bc60e9501d",
   "metadata": {},
   "outputs": [],
   "source": [
    "square(t, 200)"
   ]
  },
  {
   "cell_type": "code",
   "execution_count": 25,
   "id": "f3aa8e4f-11bf-4f03-8d32-33b510f8ecc7",
   "metadata": {},
   "outputs": [],
   "source": [
    "square(t, 300)"
   ]
  },
  {
   "cell_type": "code",
   "execution_count": 30,
   "id": "85027522-ae28-454e-bf97-680c401bfbe9",
   "metadata": {},
   "outputs": [],
   "source": [
    "square(t, 100, False)"
   ]
  },
  {
   "cell_type": "code",
   "execution_count": 32,
   "id": "2d58e245-f869-468c-860f-95101e0fe48e",
   "metadata": {},
   "outputs": [],
   "source": [
    "reset()\n",
    "\n",
    "for i in range(1, 11):\n",
    "    square(t, i * 20, False)"
   ]
  },
  {
   "cell_type": "markdown",
   "id": "d2b42e26-6b3a-41fc-a646-b49c2f50a96f",
   "metadata": {},
   "source": [
    "**Example 2 :**\n",
    "\n",
    "Draw a polygon"
   ]
  },
  {
   "cell_type": "code",
   "execution_count": 48,
   "id": "d6de9c8d-e874-4404-8c18-bce613990037",
   "metadata": {},
   "outputs": [],
   "source": [
    "def polygon(t, d, n, is_screen_reset):\n",
    "    \"\"\"\n",
    "    Draws a polygon.\n",
    "    Parameters: turtle t, ind d (pixels), int n (number of sides)\n",
    "    Returns: None\n",
    "    \"\"\"\n",
    "    if is_screen_reset:\n",
    "        reset()\n",
    "\n",
    "    angle = 360 / n\n",
    "    \n",
    "    for i in range(n):\n",
    "        t.fd(d)\n",
    "        t.lt(angle)"
   ]
  },
  {
   "cell_type": "code",
   "execution_count": 40,
   "id": "9a3bf592-c65f-427c-b7d6-092380bdba7c",
   "metadata": {},
   "outputs": [],
   "source": [
    "polygon(t, 100, 6, True)"
   ]
  },
  {
   "cell_type": "code",
   "execution_count": 49,
   "id": "56a9538f-1ac9-444f-afeb-df9d5dd9e505",
   "metadata": {},
   "outputs": [],
   "source": [
    "polygon(t=t, d=100, n=8, is_screen_reset=True)"
   ]
  },
  {
   "cell_type": "code",
   "execution_count": 50,
   "id": "2002eac3-0317-4214-9846-72e6ea1cb562",
   "metadata": {},
   "outputs": [],
   "source": [
    "square(t, d=250, is_screen_reset=True)"
   ]
  },
  {
   "cell_type": "code",
   "execution_count": 63,
   "id": "827998c1-a812-4381-b3a1-ba5505c0ceb9",
   "metadata": {},
   "outputs": [],
   "source": [
    "import math\n",
    "\n",
    "def circle(t, r, is_screen_reset):\n",
    "    \"\"\"\n",
    "    Draws a circle.\n",
    "    Parameters: turtle t, int r, bool is_screen_reset\n",
    "    Returns: None (void)\n",
    "    \"\"\"\n",
    "    if is_screen_reset:\n",
    "        reset()\n",
    "    \n",
    "    # perimeter\n",
    "    perimeter = 2 * math.pi * r\n",
    "\n",
    "    steps = int(360 / 10)\n",
    "\n",
    "    distance = perimeter / steps\n",
    "\n",
    "    polygon(t, d=distance, n=steps, is_screen_reset=is_screen_reset)"
   ]
  },
  {
   "cell_type": "code",
   "execution_count": 64,
   "id": "db52ba0f-4ebc-4f88-8809-c30477095a22",
   "metadata": {},
   "outputs": [],
   "source": [
    "circle(t=t, r=200, is_screen_reset=True)"
   ]
  },
  {
   "cell_type": "code",
   "execution_count": 67,
   "id": "00f41a0e-8ab7-49b9-87af-06eea86558e4",
   "metadata": {},
   "outputs": [],
   "source": [
    "reset()\n",
    "\n",
    "for i in range(1, 4):\n",
    "    circle(t, i * 50, False)"
   ]
  },
  {
   "cell_type": "code",
   "execution_count": 69,
   "id": "ac665c0b-1930-4494-9ace-07b4bbf56be7",
   "metadata": {},
   "outputs": [],
   "source": [
    "polygon(t, d=1, n=360, is_screen_reset=True)"
   ]
  },
  {
   "cell_type": "code",
   "execution_count": 6,
   "id": "54aec4a4-28c4-405f-957e-383ea4a3a91b",
   "metadata": {},
   "outputs": [],
   "source": [
    "# last statement -> before close\n",
    "# restart the kernel after you close the turtle\n",
    "\n",
    "turtle.mainloop()"
   ]
  },
  {
   "cell_type": "code",
   "execution_count": 70,
   "id": "3fc7bd8a-3f93-406f-a16e-dac07f854947",
   "metadata": {},
   "outputs": [],
   "source": [
    "angle = 180 / 5"
   ]
  },
  {
   "cell_type": "code",
   "execution_count": 71,
   "id": "c7ff7848-80d7-4913-b4f9-222a180f82b7",
   "metadata": {},
   "outputs": [],
   "source": [
    "angle = 180 - angle"
   ]
  },
  {
   "cell_type": "code",
   "execution_count": 1,
   "id": "c2db955b-73b1-4633-a291-7c1e13614fc1",
   "metadata": {},
   "outputs": [],
   "source": [
    "def star(t, d, is_screen_reset, color):\n",
    "    \"\"\"\n",
    "    Draws a star with 5 sizes.\n",
    "    Parameters: turtle t, int d, bool is_screen_reset, str color\n",
    "    Returns: None (void)\n",
    "    \"\"\"\n",
    "    if is_screen_reset:\n",
    "        reset()\n",
    "\n",
    "    angle = 180 / 5\n",
    "    angle = 180 - angle\n",
    "\n",
    "    t.color(color)\n",
    "\n",
    "    t.fillcolor(color)\n",
    "    t.begin_fill()\n",
    "    \n",
    "    for i in range(5):\n",
    "        t.fd(d)\n",
    "        t.lt(angle)\n",
    "\n",
    "    t.end_fill()"
   ]
  },
  {
   "cell_type": "code",
   "execution_count": 73,
   "id": "12eed175-a2b9-4f31-8f42-0c72f5b74313",
   "metadata": {},
   "outputs": [],
   "source": [
    "star(t, d=100, is_screen_reset=True)"
   ]
  },
  {
   "cell_type": "code",
   "execution_count": 74,
   "id": "7da4112e-bedb-433f-bdf6-1e7004eb50a5",
   "metadata": {},
   "outputs": [],
   "source": [
    "star(t, d=50, is_screen_reset=False)"
   ]
  },
  {
   "cell_type": "code",
   "execution_count": 9,
   "id": "6c4614f2-88b9-4a7e-963b-2c27d82929a2",
   "metadata": {},
   "outputs": [],
   "source": [
    "star(t, d=300, is_screen_reset=True, color='green')"
   ]
  },
  {
   "cell_type": "code",
   "execution_count": 10,
   "id": "60c56aea-c6d0-4d18-938d-7466745dab19",
   "metadata": {},
   "outputs": [],
   "source": [
    "star(t, d=200, is_screen_reset=False, color='orange')"
   ]
  },
  {
   "cell_type": "code",
   "execution_count": 11,
   "id": "724445cd-af87-4f98-8949-9dd14611f75d",
   "metadata": {},
   "outputs": [],
   "source": [
    "star(t, d=100, is_screen_reset=False, color='purple')"
   ]
  },
  {
   "cell_type": "code",
   "execution_count": 12,
   "id": "c2c17e91-dfa8-4344-a84e-db3710cd3660",
   "metadata": {},
   "outputs": [],
   "source": [
    "def star(t, d, n, is_screen_reset, color):\n",
    "    \"\"\"\n",
    "    Draws a star with 5 sizes.\n",
    "    Parameters: turtle t, int d, int n, bool is_screen_reset, str color\n",
    "    Returns: None (void)\n",
    "    \"\"\"\n",
    "    if is_screen_reset:\n",
    "        reset()\n",
    "\n",
    "    angle = 180 / n\n",
    "    angle = 180 - angle\n",
    "\n",
    "    t.color(color)\n",
    "\n",
    "    t.fillcolor(color)\n",
    "    t.begin_fill()\n",
    "    \n",
    "    for i in range(n):\n",
    "        t.fd(d)\n",
    "        t.lt(angle)\n",
    "\n",
    "    t.end_fill()"
   ]
  },
  {
   "cell_type": "code",
   "execution_count": 14,
   "id": "1e336c64-5155-474e-a945-dbc9fe22f4b3",
   "metadata": {},
   "outputs": [],
   "source": [
    "star(t, d=300, n=10, is_screen_reset=True, color='red')"
   ]
  },
  {
   "cell_type": "code",
   "execution_count": 15,
   "id": "ca01c145-ded7-45bf-ad9b-6c141b93d9a4",
   "metadata": {},
   "outputs": [],
   "source": [
    "star(t, d=300, n=11, is_screen_reset=True, color='yellow')"
   ]
  },
  {
   "cell_type": "code",
   "execution_count": 17,
   "id": "09016655-d5b8-4233-84b0-b9483c2857b9",
   "metadata": {},
   "outputs": [],
   "source": [
    "def star(t, d, n, is_screen_reset, pen_color, fill_color):\n",
    "    \"\"\"\n",
    "    Draws a star with 5 sizes.\n",
    "    Parameters: turtle t, int d, int n, bool is_screen_reset, str pen_color, str fill_color\n",
    "    Returns: None (void)\n",
    "    \"\"\"\n",
    "    if is_screen_reset:\n",
    "        reset()\n",
    "\n",
    "    angle = 180 / n\n",
    "    angle = 180 - angle\n",
    "\n",
    "    t.color(pen_color)\n",
    "\n",
    "    t.fillcolor(fill_color)\n",
    "    t.begin_fill()\n",
    "    \n",
    "    for i in range(n):\n",
    "        t.fd(d)\n",
    "        t.lt(angle)\n",
    "\n",
    "    t.end_fill()"
   ]
  },
  {
   "cell_type": "code",
   "execution_count": 18,
   "id": "c7d1d9c7-f4fc-44a9-9231-376af45e4543",
   "metadata": {},
   "outputs": [],
   "source": [
    "star(t, d=300, n=11, is_screen_reset=True, pen_color='red', fill_color=\"yellow\")"
   ]
  },
  {
   "cell_type": "code",
   "execution_count": 85,
   "id": "633812ec-b043-4dc7-8444-b9a23d10ddad",
   "metadata": {},
   "outputs": [],
   "source": [
    "turtle.mainloop()"
   ]
  }
 ],
 "metadata": {
  "kernelspec": {
   "display_name": "Python 3 (ipykernel)",
   "language": "python",
   "name": "python3"
  },
  "language_info": {
   "codemirror_mode": {
    "name": "ipython",
    "version": 3
   },
   "file_extension": ".py",
   "mimetype": "text/x-python",
   "name": "python",
   "nbconvert_exporter": "python",
   "pygments_lexer": "ipython3",
   "version": "3.12.4"
  }
 },
 "nbformat": 4,
 "nbformat_minor": 5
}
