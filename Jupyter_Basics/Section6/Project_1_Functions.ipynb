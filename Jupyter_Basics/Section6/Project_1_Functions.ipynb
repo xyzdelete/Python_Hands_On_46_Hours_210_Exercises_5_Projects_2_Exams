{
 "cells": [
  {
   "cell_type": "markdown",
   "id": "caa9dfdf-7276-4b6a-9355-b3a75a7a8da1",
   "metadata": {},
   "source": [
    "## Project 1 - Functions"
   ]
  },
  {
   "cell_type": "code",
   "execution_count": 1,
   "id": "f0d12267-98f2-47b2-a7be-bbf6c8a0dbfc",
   "metadata": {},
   "outputs": [],
   "source": [
    "# import the module -> turtle\n",
    "\n",
    "import turtle"
   ]
  },
  {
   "cell_type": "code",
   "execution_count": 2,
   "id": "7c9959a1-50d3-4375-bd66-a78ce88889eb",
   "metadata": {},
   "outputs": [],
   "source": [
    "t = turtle.Turtle()"
   ]
  },
  {
   "cell_type": "code",
   "execution_count": 3,
   "id": "8830c10b-abf4-480d-ab81-4e3a79c82d29",
   "metadata": {},
   "outputs": [],
   "source": [
    "t.fd(100)\n",
    "t.lt(90)\n",
    "t.fd(300)"
   ]
  },
  {
   "cell_type": "code",
   "execution_count": 4,
   "id": "6fee674f-2a95-46ef-9ccd-ccf7169bf81a",
   "metadata": {},
   "outputs": [],
   "source": [
    "t.lt(90)"
   ]
  },
  {
   "cell_type": "code",
   "execution_count": 5,
   "id": "0cb761ff-46c4-4e8f-90ca-80f4d942f33b",
   "metadata": {},
   "outputs": [],
   "source": [
    "t.fd(100)"
   ]
  },
  {
   "cell_type": "code",
   "execution_count": 6,
   "id": "4df70d65-e8ef-4e4d-9225-d58bdf62a6c5",
   "metadata": {},
   "outputs": [],
   "source": [
    "t.lt(90)"
   ]
  },
  {
   "cell_type": "code",
   "execution_count": 7,
   "id": "01da260f-219d-4828-ae5a-0feb91912f14",
   "metadata": {},
   "outputs": [],
   "source": [
    "t.fd(300)"
   ]
  },
  {
   "cell_type": "code",
   "execution_count": 9,
   "id": "c28495ef-e8b7-48a8-8159-cc0c53dd3dfd",
   "metadata": {},
   "outputs": [],
   "source": [
    "# Clear the screen\n",
    "\n",
    "t.clear()"
   ]
  },
  {
   "cell_type": "code",
   "execution_count": 11,
   "id": "d4eeca1f-b301-4d3a-ad07-b41558fd5460",
   "metadata": {},
   "outputs": [],
   "source": [
    "turtle.resetscreen()"
   ]
  },
  {
   "cell_type": "code",
   "execution_count": 13,
   "id": "67d951fd-c62e-4704-a1f0-082c93553c87",
   "metadata": {},
   "outputs": [],
   "source": [
    "t.fd(100)"
   ]
  },
  {
   "cell_type": "code",
   "execution_count": 14,
   "id": "b9d3bd1b-814e-49b7-910e-e8e5644f572b",
   "metadata": {},
   "outputs": [],
   "source": [
    "t.lt(90)"
   ]
  },
  {
   "cell_type": "code",
   "execution_count": 15,
   "id": "db1cf923-832f-4090-8dc7-6523d67fd95d",
   "metadata": {},
   "outputs": [],
   "source": [
    "t.fd(100)\n",
    "t.lt(90)"
   ]
  },
  {
   "cell_type": "code",
   "execution_count": 16,
   "id": "02dc3d41-5d14-4d8a-8b13-4481f63e8791",
   "metadata": {},
   "outputs": [],
   "source": [
    "t.fd(100)\n",
    "t.lt(90)"
   ]
  },
  {
   "cell_type": "code",
   "execution_count": 17,
   "id": "b084d6e6-81c6-4660-8e3f-e004e92111af",
   "metadata": {},
   "outputs": [],
   "source": [
    "t.fd(100)\n",
    "t.lt(90)"
   ]
  },
  {
   "cell_type": "code",
   "execution_count": 19,
   "id": "1497b85f-a640-430e-b7c8-8475b91717c2",
   "metadata": {},
   "outputs": [],
   "source": [
    "turtle.resetscreen()\n",
    "\n",
    "for i in range(4):\n",
    "    t.fd(100)\n",
    "    t.lt(90)  "
   ]
  },
  {
   "cell_type": "markdown",
   "id": "b77882c4-1654-4a62-8e78-d6d2e0c00fcf",
   "metadata": {},
   "source": [
    "**Example 1:**\n",
    "\n",
    "Create a square with function -> **square**\n",
    "\n",
    "Parameters: turtle object, length in pixels"
   ]
  },
  {
   "cell_type": "code",
   "execution_count": 33,
   "id": "d3ec9b27-03b9-4e59-b3b9-3589fff0d53d",
   "metadata": {},
   "outputs": [],
   "source": [
    "# square\n",
    "\n",
    "def square(t, d, is_screen_reset):\n",
    "    \"\"\"\n",
    "    It draws square with turtle.\n",
    "    Parameters: turtle t, int d, bool is_screen_reset\n",
    "    Returns: none\n",
    "    \"\"\"\n",
    "    # reset screen\n",
    "    if is_screen_reset == True:\n",
    "        reset()\n",
    "\n",
    "    # draw square\n",
    "    for i in range(4):\n",
    "        t.fd(d)\n",
    "        t.lt(90) \n",
    "    "
   ]
  },
  {
   "cell_type": "code",
   "execution_count": 22,
   "id": "3b7dcd22-d8b7-4d45-9211-05d74bcfe2a1",
   "metadata": {},
   "outputs": [],
   "source": [
    "# reset\n",
    "\n",
    "def reset():\n",
    "    turtle.resetscreen()"
   ]
  },
  {
   "cell_type": "code",
   "execution_count": 24,
   "id": "fb6e48da-796c-4cd5-af09-57bc60e9501d",
   "metadata": {},
   "outputs": [],
   "source": [
    "square(t, 200)"
   ]
  },
  {
   "cell_type": "code",
   "execution_count": 25,
   "id": "f3aa8e4f-11bf-4f03-8d32-33b510f8ecc7",
   "metadata": {},
   "outputs": [],
   "source": [
    "square(t, 300)"
   ]
  },
  {
   "cell_type": "code",
   "execution_count": 30,
   "id": "85027522-ae28-454e-bf97-680c401bfbe9",
   "metadata": {},
   "outputs": [],
   "source": [
    "square(t, 100, False)"
   ]
  },
  {
   "cell_type": "code",
   "execution_count": 32,
   "id": "2d58e245-f869-468c-860f-95101e0fe48e",
   "metadata": {},
   "outputs": [],
   "source": [
    "reset()\n",
    "\n",
    "for i in range(1, 11):\n",
    "    square(t, i * 20, False)"
   ]
  },
  {
   "cell_type": "markdown",
   "id": "d2b42e26-6b3a-41fc-a646-b49c2f50a96f",
   "metadata": {},
   "source": [
    "**Example 2 :**\n",
    "\n",
    "Draw a polygon"
   ]
  },
  {
   "cell_type": "code",
   "execution_count": 39,
   "id": "d6de9c8d-e874-4404-8c18-bce613990037",
   "metadata": {},
   "outputs": [],
   "source": [
    "def polygon(t, d, n, is_screen_reset):\n",
    "    \"\"\"\n",
    "    Draws a polygon.\n",
    "    Parameters: turtle t, ind d (pixels), int n (number of sides)\n",
    "    Returns: None\n",
    "    \"\"\"\n",
    "    if is_screen_reset:\n",
    "        reset()\n",
    "\n",
    "    angle = 360 / n\n",
    "    \n",
    "    for i in range(6):\n",
    "        t.fd(d)\n",
    "        t.lt(angle)"
   ]
  },
  {
   "cell_type": "code",
   "execution_count": 40,
   "id": "9a3bf592-c65f-427c-b7d6-092380bdba7c",
   "metadata": {},
   "outputs": [],
   "source": [
    "polygon(t, 100, 6, True)"
   ]
  },
  {
   "cell_type": "code",
   "execution_count": 6,
   "id": "54aec4a4-28c4-405f-957e-383ea4a3a91b",
   "metadata": {},
   "outputs": [],
   "source": [
    "# last statement -> before close\n",
    "# restart the kernel after you close the turtle\n",
    "\n",
    "turtle.mainloop()"
   ]
  },
  {
   "cell_type": "code",
   "execution_count": null,
   "id": "3fc7bd8a-3f93-406f-a16e-dac07f854947",
   "metadata": {},
   "outputs": [],
   "source": []
  }
 ],
 "metadata": {
  "kernelspec": {
   "display_name": "Python 3 (ipykernel)",
   "language": "python",
   "name": "python3"
  },
  "language_info": {
   "codemirror_mode": {
    "name": "ipython",
    "version": 3
   },
   "file_extension": ".py",
   "mimetype": "text/x-python",
   "name": "python",
   "nbconvert_exporter": "python",
   "pygments_lexer": "ipython3",
   "version": "3.12.4"
  }
 },
 "nbformat": 4,
 "nbformat_minor": 5
}
