{
 "cells": [
  {
   "cell_type": "markdown",
   "id": "generous-praise",
   "metadata": {},
   "source": [
    "## [10 Questions] QUIZ - Variables"
   ]
  },
  {
   "cell_type": "markdown",
   "id": "unauthorized-penalty",
   "metadata": {},
   "source": [
    "#### General Syntax"
   ]
  },
  {
   "cell_type": "markdown",
   "id": "boxed-width",
   "metadata": {},
   "source": [
    "**Q 1:**\n",
    "\n",
    "Fill in the blanks to print \"Hello World!\":\n",
    "\n",
    ".....(\"Hello World!\")"
   ]
  },
  {
   "cell_type": "code",
   "execution_count": 2,
   "id": "activated-vietnamese",
   "metadata": {},
   "outputs": [
    {
     "name": "stdout",
     "output_type": "stream",
     "text": [
      "Hello World!\n"
     ]
    }
   ],
   "source": [
    "# S 1:\n",
    "print(\"Hello World!\")\n"
   ]
  },
  {
   "cell_type": "markdown",
   "id": "interesting-glucose",
   "metadata": {},
   "source": [
    "---"
   ]
  },
  {
   "cell_type": "markdown",
   "id": "compliant-saver",
   "metadata": {},
   "source": [
    "**Q 2:**\n",
    "Fix the typo (coding error) below:\n",
    "\n",
    "<pre>\n",
    "print(\"Alice's Adventures')\n",
    "</pre>"
   ]
  },
  {
   "cell_type": "code",
   "execution_count": 3,
   "id": "acquired-decision",
   "metadata": {},
   "outputs": [
    {
     "name": "stdout",
     "output_type": "stream",
     "text": [
      "Alice's Adventures\n"
     ]
    }
   ],
   "source": [
    "# S 2:\n",
    "print(\"Alice's Adventures\")\n"
   ]
  },
  {
   "cell_type": "markdown",
   "id": "industrial-dover",
   "metadata": {},
   "source": [
    "---"
   ]
  },
  {
   "cell_type": "markdown",
   "id": "taken-ceiling",
   "metadata": {},
   "source": [
    "**Q 3:**\n",
    "\n",
    "Convert below line into a Comment Line.\n",
    "(One line comment)\n",
    "\n",
    "I am a Comment Line :)"
   ]
  },
  {
   "cell_type": "code",
   "execution_count": 4,
   "id": "christian-inquiry",
   "metadata": {},
   "outputs": [],
   "source": [
    "# S 3:\n",
    "# I am a Comment Line :)\n"
   ]
  },
  {
   "cell_type": "markdown",
   "id": "afraid-scratch",
   "metadata": {},
   "source": [
    "---"
   ]
  },
  {
   "cell_type": "markdown",
   "id": "outer-badge",
   "metadata": {},
   "source": [
    "**Q 4:**\n",
    "\n",
    "Convert below lines into comment line. (multi-line comment)\n",
    "\n",
    "<pre>\n",
    "This comment line\n",
    "Is multiple lines comment\n",
    "Not just one...\n",
    "</pre>"
   ]
  },
  {
   "cell_type": "code",
   "execution_count": 6,
   "id": "bridal-legislature",
   "metadata": {},
   "outputs": [
    {
     "data": {
      "text/plain": [
       "'\\nThis comment line\\nIs multiple lines comment\\nNot just one...\\n'"
      ]
     },
     "execution_count": 6,
     "metadata": {},
     "output_type": "execute_result"
    }
   ],
   "source": [
    "# S 4:\n",
    "\"\"\"\n",
    "This comment line\n",
    "Is multiple lines comment\n",
    "Not just one...\n",
    "\"\"\"\n"
   ]
  },
  {
   "cell_type": "markdown",
   "id": "found-heater",
   "metadata": {},
   "source": [
    "---"
   ]
  },
  {
   "cell_type": "markdown",
   "id": "martial-element",
   "metadata": {},
   "source": [
    "**Q 5:**\n",
    "\n",
    "Print the text below exactly as it is shown.\n",
    "\n",
    "<pre>\n",
    "Who in the world am I?\n",
    "    Ah, that's the great puzzle!\n",
    "        'Alice in Wonderland'\n",
    "</pre>"
   ]
  },
  {
   "cell_type": "code",
   "execution_count": 8,
   "id": "constant-scotland",
   "metadata": {},
   "outputs": [
    {
     "name": "stdout",
     "output_type": "stream",
     "text": [
      "\n",
      "    Who in the world am I?\n",
      "        Ah, that's the great puzzle!\n",
      "            'Alice in Wonderland'\n",
      "\n"
     ]
    }
   ],
   "source": [
    "# S 5:\n",
    "print(\n",
    "\"\"\"\n",
    "    Who in the world am I?\n",
    "        Ah, that's the great puzzle!\n",
    "            'Alice in Wonderland'\n",
    "\"\"\"\n",
    ")"
   ]
  },
  {
   "cell_type": "markdown",
   "id": "coordinated-breach",
   "metadata": {},
   "source": [
    "---"
   ]
  },
  {
   "cell_type": "markdown",
   "id": "legal-template",
   "metadata": {},
   "source": [
    "#### Python Variables"
   ]
  },
  {
   "cell_type": "markdown",
   "id": "silver-astrology",
   "metadata": {},
   "source": [
    "**Q 1:**\n",
    "\n",
    "Create a variable named car_model and assign the value 'Volvo' to it."
   ]
  },
  {
   "cell_type": "code",
   "execution_count": 10,
   "id": "delayed-matrix",
   "metadata": {},
   "outputs": [
    {
     "name": "stdout",
     "output_type": "stream",
     "text": [
      "'Volvo'\n"
     ]
    }
   ],
   "source": [
    "# S 1:\n",
    "car_model = \"'Volvo'\"\n",
    "print(car_model)"
   ]
  },
  {
   "cell_type": "markdown",
   "id": "annoying-mention",
   "metadata": {},
   "source": [
    "---"
   ]
  },
  {
   "cell_type": "markdown",
   "id": "raised-intervention",
   "metadata": {},
   "source": [
    "**Q 2:**\n",
    "\n",
    "Create a variable named x and set its value to 50."
   ]
  },
  {
   "cell_type": "code",
   "execution_count": 11,
   "id": "brutal-fountain",
   "metadata": {},
   "outputs": [
    {
     "name": "stdout",
     "output_type": "stream",
     "text": [
      "50\n"
     ]
    }
   ],
   "source": [
    "# S 2:\n",
    "x = 50\n",
    "print(x)"
   ]
  },
  {
   "cell_type": "markdown",
   "id": "focal-yorkshire",
   "metadata": {},
   "source": [
    "---"
   ]
  },
  {
   "cell_type": "markdown",
   "id": "included-palestinian",
   "metadata": {},
   "source": [
    "**Q 3:**\n",
    "\n",
    "Create two varibles x and y. And assing them as 20 and 50 respectively.\n",
    "\n",
    "Create a variable z, and assign x + y to it.\n",
    "\n",
    "Then print z.\n",
    "\n",
    "<pre>\n",
    "x = 20\n",
    "y = 80\n",
    "\n",
    "... = x + y\n",
    "print(...)\n",
    "</pre>"
   ]
  },
  {
   "cell_type": "code",
   "execution_count": 12,
   "id": "hearing-intensity",
   "metadata": {},
   "outputs": [
    {
     "name": "stdout",
     "output_type": "stream",
     "text": [
      "70\n"
     ]
    }
   ],
   "source": [
    "# S 3:\n",
    "x = 20\n",
    "y = 50\n",
    "z = x + y\n",
    "print(z)\n"
   ]
  },
  {
   "cell_type": "markdown",
   "id": "resident-piano",
   "metadata": {},
   "source": [
    "---"
   ]
  },
  {
   "cell_type": "markdown",
   "id": "dependent-broadcast",
   "metadata": {},
   "source": [
    "**Q 4:**\n",
    "\n",
    "Remove forbidden characters from the variable name.\n",
    "\n",
    "**2my-first_variable*β = \"Beta\"**"
   ]
  },
  {
   "cell_type": "code",
   "execution_count": 13,
   "id": "wooden-forth",
   "metadata": {},
   "outputs": [
    {
     "name": "stdout",
     "output_type": "stream",
     "text": [
      "Beta\n"
     ]
    }
   ],
   "source": [
    "# S 4:\n",
    "my_first_variable = \"Beta\"\n",
    "print(my_first_variable)"
   ]
  },
  {
   "cell_type": "markdown",
   "id": "starting-slide",
   "metadata": {},
   "source": [
    "---"
   ]
  },
  {
   "cell_type": "markdown",
   "id": "superior-basement",
   "metadata": {},
   "source": [
    "**Q 5:**\n",
    "\n",
    "Fill in the blanks to assign three variables at the same time.\n",
    "\n",
    "x ... y ... z = \"Python\""
   ]
  },
  {
   "cell_type": "code",
   "execution_count": 14,
   "id": "declared-annual",
   "metadata": {},
   "outputs": [
    {
     "name": "stdout",
     "output_type": "stream",
     "text": [
      "Python\n",
      "Python\n",
      "Python\n"
     ]
    }
   ],
   "source": [
    "# S 5:\n",
    "\n",
    "x = y = z = \"Python\"\n",
    "print(x)\n",
    "print(y)\n",
    "print(z)"
   ]
  },
  {
   "cell_type": "code",
   "execution_count": null,
   "id": "chubby-austin",
   "metadata": {},
   "outputs": [],
   "source": []
  }
 ],
 "metadata": {
  "kernelspec": {
   "display_name": "Python 3 (ipykernel)",
   "language": "python",
   "name": "python3"
  },
  "language_info": {
   "codemirror_mode": {
    "name": "ipython",
    "version": 3
   },
   "file_extension": ".py",
   "mimetype": "text/x-python",
   "name": "python",
   "nbconvert_exporter": "python",
   "pygments_lexer": "ipython3",
   "version": "3.12.4"
  }
 },
 "nbformat": 4,
 "nbformat_minor": 5
}
