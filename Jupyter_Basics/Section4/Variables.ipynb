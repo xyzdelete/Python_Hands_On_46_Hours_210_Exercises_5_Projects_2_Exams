{
 "cells": [
  {
   "cell_type": "markdown",
   "id": "5fe329f9-7977-45ed-ac89-22d26dcba398",
   "metadata": {},
   "source": [
    "# Variables"
   ]
  },
  {
   "cell_type": "markdown",
   "id": "e8efb421-9c44-43e4-beb2-5e26558b346b",
   "metadata": {},
   "source": [
    "## What is a variable?"
   ]
  },
  {
   "cell_type": "markdown",
   "id": "125e4a02-9d79-4292-be7a-24c68660f71c",
   "metadata": {},
   "source": [
    "**Variable** is a name referring to a value."
   ]
  },
  {
   "cell_type": "markdown",
   "id": "41f0a9a4-2e2b-4d2c-b422-8b49f2bcc836",
   "metadata": {},
   "source": [
    "It is the **name of the address** for that value in memory."
   ]
  },
  {
   "cell_type": "markdown",
   "id": "ef430015-a826-4325-a2e0-b9b13776011f",
   "metadata": {},
   "source": [
    "**Assignment** creates a variable and binds it to the given value.\n",
    "\n",
    "`=`"
   ]
  },
  {
   "cell_type": "code",
   "execution_count": 1,
   "id": "fa397e32-8315-4a00-82a1-d0b5d6f41daf",
   "metadata": {},
   "outputs": [],
   "source": [
    "a = 12"
   ]
  },
  {
   "cell_type": "code",
   "execution_count": 2,
   "id": "7f6e4720-a70f-4320-93ca-bfd08549dfa6",
   "metadata": {},
   "outputs": [
    {
     "data": {
      "text/plain": [
       "12"
      ]
     },
     "execution_count": 2,
     "metadata": {},
     "output_type": "execute_result"
    }
   ],
   "source": [
    "a"
   ]
  },
  {
   "cell_type": "code",
   "execution_count": 3,
   "id": "f8a02e4c-716a-4ccb-98ee-2a848b8fb999",
   "metadata": {},
   "outputs": [],
   "source": [
    "info = \"Python name comes from Monthy Python and Holly Grail\""
   ]
  },
  {
   "cell_type": "code",
   "execution_count": 4,
   "id": "0b46de75-9052-40db-a223-ab1093fd022d",
   "metadata": {},
   "outputs": [
    {
     "name": "stdout",
     "output_type": "stream",
     "text": [
      "Python name comes from Monthy Python and Holly Grail\n"
     ]
    }
   ],
   "source": [
    "print(info)"
   ]
  },
  {
   "cell_type": "code",
   "execution_count": 5,
   "id": "7703e32b-d6f9-41e5-9f4e-1abf20457850",
   "metadata": {},
   "outputs": [],
   "source": [
    "pi = 3.1415"
   ]
  },
  {
   "cell_type": "code",
   "execution_count": 6,
   "id": "555bcc51-013b-4bb1-8fce-b3ff29f247d7",
   "metadata": {},
   "outputs": [
    {
     "name": "stdout",
     "output_type": "stream",
     "text": [
      "3.1415\n"
     ]
    }
   ],
   "source": [
    "print(pi)"
   ]
  },
  {
   "cell_type": "code",
   "execution_count": 7,
   "id": "5c98d940-5490-4471-b403-3b02a4d314ca",
   "metadata": {},
   "outputs": [],
   "source": [
    "n = 12"
   ]
  },
  {
   "cell_type": "code",
   "execution_count": 8,
   "id": "9826e0c7-e974-4fc9-9c5c-9b650ce1b3f0",
   "metadata": {},
   "outputs": [
    {
     "data": {
      "text/plain": [
       "12"
      ]
     },
     "execution_count": 8,
     "metadata": {},
     "output_type": "execute_result"
    }
   ],
   "source": [
    "n"
   ]
  },
  {
   "cell_type": "code",
   "execution_count": 9,
   "id": "5a951cfb-561f-4252-a7b7-acd00bb47cfe",
   "metadata": {},
   "outputs": [],
   "source": [
    "a = 1000"
   ]
  },
  {
   "cell_type": "code",
   "execution_count": 10,
   "id": "4a76a8e2-2365-4d35-a84c-acfb49b9dbb0",
   "metadata": {},
   "outputs": [
    {
     "data": {
      "text/plain": [
       "1000"
      ]
     },
     "execution_count": 10,
     "metadata": {},
     "output_type": "execute_result"
    }
   ],
   "source": [
    "a"
   ]
  },
  {
   "cell_type": "code",
   "execution_count": 11,
   "id": "9907363d-fe82-46fb-a19d-cbb36ce4c81c",
   "metadata": {},
   "outputs": [],
   "source": [
    "a = 3000"
   ]
  },
  {
   "cell_type": "code",
   "execution_count": 12,
   "id": "9cbf8c25-d684-489b-b3a3-1f40424ec7b5",
   "metadata": {},
   "outputs": [
    {
     "data": {
      "text/plain": [
       "3000"
      ]
     },
     "execution_count": 12,
     "metadata": {},
     "output_type": "execute_result"
    }
   ],
   "source": [
    "a"
   ]
  },
  {
   "cell_type": "markdown",
   "id": "076604eb-577a-4edb-a8c8-b6ca34f6295e",
   "metadata": {},
   "source": [
    "# Variable Names"
   ]
  },
  {
   "cell_type": "markdown",
   "id": "94145a2f-1c0a-47e4-ac4d-5e5d3e100a42",
   "metadata": {},
   "source": [
    "In Python, Variable names:\n",
    "\n",
    "* should be meaningful, self-explanatory\n",
    "* generally we use snake_case\n",
    "  \n",
    "  average_car\n",
    "  \n",
    "  starting_index\n",
    "\n",
    "Variable names CAN NOT:\n",
    "\n",
    "* start with a number\n",
    "    * 1number\n",
    "    * 3_rd_position\n",
    " \n",
    "* include space\n",
    "    * average speed\n",
    "\n",
    "* include special character\n",
    "    * @, -, +, *, etc.\n",
    "    * @number\n",
    "\n",
    "* include keywords\n",
    "    * and, for, true, return, if..."
   ]
  },
  {
   "cell_type": "code",
   "execution_count": 13,
   "id": "94c53545-8fde-4b92-b68a-aaaafb0d9d48",
   "metadata": {},
   "outputs": [
    {
     "ename": "SyntaxError",
     "evalue": "invalid decimal literal (3334007549.py, line 1)",
     "output_type": "error",
     "traceback": [
      "\u001b[1;36m  Cell \u001b[1;32mIn[13], line 1\u001b[1;36m\u001b[0m\n\u001b[1;33m    1number = 12345\u001b[0m\n\u001b[1;37m    ^\u001b[0m\n\u001b[1;31mSyntaxError\u001b[0m\u001b[1;31m:\u001b[0m invalid decimal literal\n"
     ]
    }
   ],
   "source": [
    "1number = 12345"
   ]
  },
  {
   "cell_type": "code",
   "execution_count": 14,
   "id": "8bff7054-3aca-412c-892a-af95a3a39eab",
   "metadata": {},
   "outputs": [],
   "source": [
    "average_speed = 80"
   ]
  },
  {
   "cell_type": "code",
   "execution_count": 15,
   "id": "f3757114-015a-4ddc-904e-9c621c76bb7c",
   "metadata": {},
   "outputs": [
    {
     "ename": "SyntaxError",
     "evalue": "invalid syntax (3979765169.py, line 1)",
     "output_type": "error",
     "traceback": [
      "\u001b[1;36m  Cell \u001b[1;32mIn[15], line 1\u001b[1;36m\u001b[0m\n\u001b[1;33m    average speed = 85\u001b[0m\n\u001b[1;37m            ^\u001b[0m\n\u001b[1;31mSyntaxError\u001b[0m\u001b[1;31m:\u001b[0m invalid syntax\n"
     ]
    }
   ],
   "source": [
    "average speed = 85"
   ]
  },
  {
   "cell_type": "code",
   "execution_count": 16,
   "id": "68c056e8-461d-4aa6-a7aa-05fa65f19807",
   "metadata": {},
   "outputs": [
    {
     "ename": "SyntaxError",
     "evalue": "invalid syntax. Maybe you meant '==' or ':=' instead of '='? (2714986626.py, line 1)",
     "output_type": "error",
     "traceback": [
      "\u001b[1;36m  Cell \u001b[1;32mIn[16], line 1\u001b[1;36m\u001b[0m\n\u001b[1;33m    @tenth = 10\u001b[0m\n\u001b[1;37m     ^\u001b[0m\n\u001b[1;31mSyntaxError\u001b[0m\u001b[1;31m:\u001b[0m invalid syntax. Maybe you meant '==' or ':=' instead of '='?\n"
     ]
    }
   ],
   "source": [
    "@tenth = 10"
   ]
  },
  {
   "cell_type": "code",
   "execution_count": 17,
   "id": "2444587d-b3d0-49e6-89c4-60118e66e8e6",
   "metadata": {},
   "outputs": [
    {
     "ename": "SyntaxError",
     "evalue": "invalid syntax (2046953698.py, line 1)",
     "output_type": "error",
     "traceback": [
      "\u001b[1;36m  Cell \u001b[1;32mIn[17], line 1\u001b[1;36m\u001b[0m\n\u001b[1;33m    for = 4\u001b[0m\n\u001b[1;37m        ^\u001b[0m\n\u001b[1;31mSyntaxError\u001b[0m\u001b[1;31m:\u001b[0m invalid syntax\n"
     ]
    }
   ],
   "source": [
    "for = 4"
   ]
  },
  {
   "cell_type": "code",
   "execution_count": 18,
   "id": "ccd3d5a2-148b-487a-8f04-f61151324679",
   "metadata": {},
   "outputs": [
    {
     "ename": "SyntaxError",
     "evalue": "starred assignment target must be in a list or tuple (1810212927.py, line 1)",
     "output_type": "error",
     "traceback": [
      "\u001b[1;36m  Cell \u001b[1;32mIn[18], line 1\u001b[1;36m\u001b[0m\n\u001b[1;33m    *a = 45\u001b[0m\n\u001b[1;37m    ^\u001b[0m\n\u001b[1;31mSyntaxError\u001b[0m\u001b[1;31m:\u001b[0m starred assignment target must be in a list or tuple\n"
     ]
    }
   ],
   "source": [
    "*a = 45"
   ]
  },
  {
   "cell_type": "markdown",
   "id": "d4de955e-712e-4922-b800-5c17230ba253",
   "metadata": {},
   "source": [
    "**Important:**\n",
    "\n",
    "In Python, **CAPITAL-small** letters are different.\n",
    "\n",
    "`Python is CASE SENSITIVE`"
   ]
  },
  {
   "cell_type": "code",
   "execution_count": 19,
   "id": "9b31a106-381e-4931-9639-d3289067e19c",
   "metadata": {},
   "outputs": [],
   "source": [
    "a = 10\n",
    "A = 45"
   ]
  },
  {
   "cell_type": "code",
   "execution_count": 20,
   "id": "800f7407-8bb2-4a42-a1c7-6eca08112c95",
   "metadata": {},
   "outputs": [
    {
     "name": "stdout",
     "output_type": "stream",
     "text": [
      "10\n"
     ]
    }
   ],
   "source": [
    "print(a)"
   ]
  },
  {
   "cell_type": "code",
   "execution_count": 21,
   "id": "df88d402-caa7-4f67-995b-c71cc83b5041",
   "metadata": {},
   "outputs": [
    {
     "name": "stdout",
     "output_type": "stream",
     "text": [
      "45\n"
     ]
    }
   ],
   "source": [
    "print(A)"
   ]
  },
  {
   "cell_type": "markdown",
   "id": "cb5e0494-a86c-414f-bc05-5ccf43d95082",
   "metadata": {},
   "source": [
    "a is not equal to A in Python."
   ]
  },
  {
   "cell_type": "code",
   "execution_count": 22,
   "id": "c5356bf4-f060-4407-a1a3-9eeea89644e9",
   "metadata": {},
   "outputs": [
    {
     "name": "stdout",
     "output_type": "stream",
     "text": [
      "5\n"
     ]
    }
   ],
   "source": [
    "num = 5\n",
    "Num = 12\n",
    "print(num)"
   ]
  },
  {
   "cell_type": "markdown",
   "id": "1c08dd3f-8540-4a32-b3a1-daa352332cb2",
   "metadata": {},
   "source": [
    "**Unicode Characters:**\n",
    "\n",
    "Try not to use Unicode Characters in variable names.\n",
    "\n",
    "Only use English Alphabet (ASCII)."
   ]
  },
  {
   "cell_type": "code",
   "execution_count": 23,
   "id": "03de1b40-6a11-43d8-ab47-6d214032fc1c",
   "metadata": {},
   "outputs": [],
   "source": [
    "Ω_omega = 80"
   ]
  },
  {
   "cell_type": "code",
   "execution_count": 24,
   "id": "3d547707-4788-4a88-be6a-dc655f223d54",
   "metadata": {},
   "outputs": [],
   "source": [
    "omega = 80"
   ]
  },
  {
   "cell_type": "code",
   "execution_count": 25,
   "id": "6a912d53-5ded-40dd-93e4-590438d5a940",
   "metadata": {},
   "outputs": [
    {
     "name": "stdout",
     "output_type": "stream",
     "text": [
      "80\n"
     ]
    }
   ],
   "source": [
    "print(omega)"
   ]
  },
  {
   "cell_type": "markdown",
   "id": "2c97cfe2-e0b1-4d8a-8a16-d156670d1f4a",
   "metadata": {},
   "source": [
    "## Python Data Types"
   ]
  },
  {
   "cell_type": "markdown",
   "id": "8b6c4ee5-2fa5-4755-ae72-27a59ca3b80d",
   "metadata": {},
   "source": [
    "In Python Data Types are:\n",
    "\n",
    "* Text Type: **str**\n",
    "* Numeric Types: **int, float, complex**\n",
    "* Sequence Types: **list, tuple, range**\n",
    "* Mapping Type: **dict**\n",
    "* Set Types: **set, frozenset**\n",
    "* Boolean Type: **bool**\n",
    "* Binary Types: **bytes, bytearray, memoryview**"
   ]
  },
  {
   "cell_type": "markdown",
   "id": "ebd2c32f-00fe-4ed2-ac26-3da32ac3ac0b",
   "metadata": {},
   "source": [
    "To get type of a variable type()"
   ]
  },
  {
   "cell_type": "code",
   "execution_count": 26,
   "id": "3f9ad144-1ff4-489b-914c-855a452a9e28",
   "metadata": {},
   "outputs": [
    {
     "data": {
      "text/plain": [
       "str"
      ]
     },
     "execution_count": 26,
     "metadata": {},
     "output_type": "execute_result"
    }
   ],
   "source": [
    "text = \"This is a text\"\n",
    "type(text)"
   ]
  },
  {
   "cell_type": "code",
   "execution_count": 27,
   "id": "a6f84a26-cbd1-46d0-a119-003293bb7da1",
   "metadata": {},
   "outputs": [
    {
     "data": {
      "text/plain": [
       "int"
      ]
     },
     "execution_count": 27,
     "metadata": {},
     "output_type": "execute_result"
    }
   ],
   "source": [
    "integer = 16\n",
    "type(integer)"
   ]
  },
  {
   "cell_type": "code",
   "execution_count": 28,
   "id": "65ca3b5c-0d09-4ee6-b398-32828e49e29d",
   "metadata": {},
   "outputs": [
    {
     "name": "stdout",
     "output_type": "stream",
     "text": [
      "<class 'float'>\n"
     ]
    }
   ],
   "source": [
    "floating_point_number = 4.6\n",
    "print(type(floating_point_number))"
   ]
  },
  {
   "cell_type": "code",
   "execution_count": 29,
   "id": "f02cc06c-7d69-4b30-b6da-42cddb234659",
   "metadata": {},
   "outputs": [],
   "source": [
    "my_list = [1, 2, 3, 4, 5]"
   ]
  },
  {
   "cell_type": "code",
   "execution_count": 30,
   "id": "42247905-1d7c-412d-9ce2-adc29a8bf637",
   "metadata": {},
   "outputs": [
    {
     "name": "stdout",
     "output_type": "stream",
     "text": [
      "[1, 2, 3, 4, 5]\n"
     ]
    }
   ],
   "source": [
    "print(my_list)"
   ]
  },
  {
   "cell_type": "code",
   "execution_count": 31,
   "id": "cbc6e94a-0770-49bc-b4fa-a191aca57264",
   "metadata": {},
   "outputs": [
    {
     "data": {
      "text/plain": [
       "list"
      ]
     },
     "execution_count": 31,
     "metadata": {},
     "output_type": "execute_result"
    }
   ],
   "source": [
    "type(my_list)"
   ]
  },
  {
   "cell_type": "code",
   "execution_count": 32,
   "id": "f69b4e4d-a426-4e6f-a39c-2a6eb83bf831",
   "metadata": {},
   "outputs": [],
   "source": [
    "triple = ('A', 'B', 'C')"
   ]
  },
  {
   "cell_type": "code",
   "execution_count": 34,
   "id": "56496c37-7655-4548-9240-e766a6134266",
   "metadata": {},
   "outputs": [
    {
     "name": "stdout",
     "output_type": "stream",
     "text": [
      "('A', 'B', 'C')\n"
     ]
    },
    {
     "data": {
      "text/plain": [
       "tuple"
      ]
     },
     "execution_count": 34,
     "metadata": {},
     "output_type": "execute_result"
    }
   ],
   "source": [
    "print(triple)\n",
    "type(triple)"
   ]
  },
  {
   "cell_type": "code",
   "execution_count": 35,
   "id": "4d0de593-4221-4eff-9a9f-b84bcf3b50c1",
   "metadata": {},
   "outputs": [
    {
     "name": "stdout",
     "output_type": "stream",
     "text": [
      "range(0, 10)\n"
     ]
    }
   ],
   "source": [
    "to_ten = range(10)\n",
    "print(to_ten)"
   ]
  },
  {
   "cell_type": "code",
   "execution_count": 36,
   "id": "cd263c50-15a3-4daf-bd23-6678bf459dc6",
   "metadata": {},
   "outputs": [
    {
     "data": {
      "text/plain": [
       "range"
      ]
     },
     "execution_count": 36,
     "metadata": {},
     "output_type": "execute_result"
    }
   ],
   "source": [
    "type(to_ten)"
   ]
  },
  {
   "cell_type": "code",
   "execution_count": 37,
   "id": "05340ce3-70fa-478d-9b9b-5c979e82901b",
   "metadata": {},
   "outputs": [
    {
     "name": "stdout",
     "output_type": "stream",
     "text": [
      "0\n",
      "1\n",
      "2\n",
      "3\n",
      "4\n",
      "5\n",
      "6\n",
      "7\n",
      "8\n",
      "9\n"
     ]
    }
   ],
   "source": [
    "for i in to_ten:\n",
    "    print(i)"
   ]
  },
  {
   "cell_type": "code",
   "execution_count": 38,
   "id": "a442d6ea-3cd1-4ca8-bd08-328dd96e62af",
   "metadata": {},
   "outputs": [
    {
     "name": "stdout",
     "output_type": "stream",
     "text": [
      "{'name': 'Arturs', 'lastname': 'Anikins', 'language': 'Python'}\n"
     ]
    }
   ],
   "source": [
    "dictionary = {\n",
    "    \"name\": \"Arturs\",\n",
    "    \"lastname\": \"Anikins\",\n",
    "    \"language\": \"Python\"\n",
    "}\n",
    "\n",
    "# <TAB>\n",
    "print(dictionary)"
   ]
  },
  {
   "cell_type": "code",
   "execution_count": 39,
   "id": "77685624-d745-4231-aae5-cb713e7ff6bf",
   "metadata": {},
   "outputs": [
    {
     "data": {
      "text/plain": [
       "dict"
      ]
     },
     "execution_count": 39,
     "metadata": {},
     "output_type": "execute_result"
    }
   ],
   "source": [
    "type(dictionary)"
   ]
  },
  {
   "cell_type": "code",
   "execution_count": 40,
   "id": "beff2948-0e23-4276-aff9-4f2d0c910e92",
   "metadata": {},
   "outputs": [
    {
     "name": "stdout",
     "output_type": "stream",
     "text": [
      "{1, 2, 3, 4}\n"
     ]
    }
   ],
   "source": [
    "set_of_numbers = set([1, 2, 2, 3, 1, 3, 4, 4])\n",
    "print(set_of_numbers)"
   ]
  },
  {
   "cell_type": "code",
   "execution_count": 41,
   "id": "d69739e0-62bb-48be-83b6-f0c2ae1fc763",
   "metadata": {},
   "outputs": [],
   "source": [
    "set_of_numbers = set([9, 2, 2, 3, 1, 3, 4, 4])"
   ]
  },
  {
   "cell_type": "code",
   "execution_count": 42,
   "id": "e5c7b0c9-7864-4a61-a659-096899e0638f",
   "metadata": {},
   "outputs": [
    {
     "name": "stdout",
     "output_type": "stream",
     "text": [
      "{1, 2, 3, 4, 9}\n"
     ]
    }
   ],
   "source": [
    "print(set_of_numbers)"
   ]
  },
  {
   "cell_type": "code",
   "execution_count": 43,
   "id": "83880372-30f8-44ac-89a5-35f9d86a466e",
   "metadata": {},
   "outputs": [
    {
     "data": {
      "text/plain": [
       "set"
      ]
     },
     "execution_count": 43,
     "metadata": {},
     "output_type": "execute_result"
    }
   ],
   "source": [
    "type(set_of_numbers)"
   ]
  },
  {
   "cell_type": "code",
   "execution_count": 44,
   "id": "170daccc-add3-49b2-bbfb-00e23451b464",
   "metadata": {},
   "outputs": [],
   "source": [
    "correct = True"
   ]
  },
  {
   "cell_type": "code",
   "execution_count": 45,
   "id": "cfc8f930-ead4-4fde-a280-e70042db1d23",
   "metadata": {},
   "outputs": [],
   "source": [
    "wrong = False"
   ]
  },
  {
   "cell_type": "code",
   "execution_count": 46,
   "id": "6a10437d-afac-4e24-92ef-89fd28188ce4",
   "metadata": {},
   "outputs": [
    {
     "name": "stdout",
     "output_type": "stream",
     "text": [
      "True\n"
     ]
    }
   ],
   "source": [
    "print(correct)"
   ]
  },
  {
   "cell_type": "code",
   "execution_count": 47,
   "id": "1da18a3e-9588-4e9f-af4f-3598e2826587",
   "metadata": {},
   "outputs": [
    {
     "name": "stdout",
     "output_type": "stream",
     "text": [
      "False\n"
     ]
    }
   ],
   "source": [
    "print(wrong)"
   ]
  },
  {
   "cell_type": "code",
   "execution_count": 48,
   "id": "86ec306f-b239-4f6b-a0fe-0d5be5c18d5c",
   "metadata": {},
   "outputs": [
    {
     "data": {
      "text/plain": [
       "bool"
      ]
     },
     "execution_count": 48,
     "metadata": {},
     "output_type": "execute_result"
    }
   ],
   "source": [
    "type(correct)"
   ]
  },
  {
   "cell_type": "markdown",
   "id": "7c3e2ae8-cd1c-4ab8-934e-99471e34e28e",
   "metadata": {},
   "source": [
    "## Python Comments"
   ]
  },
  {
   "cell_type": "markdown",
   "id": "9d3a1f73-bd58-428f-be79-cf0d2cc84e86",
   "metadata": {},
   "source": [
    "**Compiler** translates your source code into machine language.\n",
    "\n",
    "Compiler does this translation all at once, when you finish coding. (as a whole)\n",
    "\n",
    "**Interpreter** translates your source code into machine language.\n",
    "\n",
    "Interpreter does this translation while you are coding. (line by line)\n",
    "\n",
    "In Python, we have Python interpreter.\n",
    "\n",
    "**Comments** are lines, which are `ignored` by Python Interpreter.\n",
    "\n",
    "Interpreter does not run Comments."
   ]
  },
  {
   "cell_type": "code",
   "execution_count": 51,
   "id": "b8b8944b-20a6-46e9-ba3b-5d8c6d35e3d9",
   "metadata": {},
   "outputs": [],
   "source": [
    "# One Line Comment\n",
    "\n",
    "# This is one line comment"
   ]
  },
  {
   "cell_type": "code",
   "execution_count": 52,
   "id": "c102f21f-3f36-4204-b162-92b2e7192108",
   "metadata": {},
   "outputs": [
    {
     "name": "stdout",
     "output_type": "stream",
     "text": [
      "90000\n"
     ]
    }
   ],
   "source": [
    "# keeps the miles traveled\n",
    "miles_traveled = 90000\n",
    "\n",
    "print(miles_traveled)"
   ]
  },
  {
   "cell_type": "code",
   "execution_count": 54,
   "id": "89e2ec31-0369-46cc-9472-a1ebcb8fb3c8",
   "metadata": {},
   "outputs": [
    {
     "name": "stdout",
     "output_type": "stream",
     "text": [
      "75.0\n"
     ]
    }
   ],
   "source": [
    "# average speed = displacement / change in time\n",
    "\n",
    "# first get the displacement\n",
    "displacement = 450 # km\n",
    "\n",
    "# then get the change in time\n",
    "change_in_time = 6 # hr\n",
    "\n",
    "# calculate the average speed\n",
    "average_speed = displacement / change_in_time\n",
    "\n",
    "# print the result\n",
    "print(average_speed)"
   ]
  },
  {
   "cell_type": "code",
   "execution_count": 57,
   "id": "31485a2c-935e-47b5-a9fa-181a50bd5a92",
   "metadata": {},
   "outputs": [
    {
     "data": {
      "text/plain": [
       "'\\n\\nMulti-Line Comment\\n\\nIn Python, Multi-Line comments,\\nare created via two (triple) double quotes\\n\\nAs in this case.\\n\\n'"
      ]
     },
     "execution_count": 57,
     "metadata": {},
     "output_type": "execute_result"
    }
   ],
   "source": [
    "\"\"\"\n",
    "\n",
    "Multi-Line Comment\n",
    "\n",
    "In Python, Multi-Line comments,\n",
    "are created via two (triple) double quotes\n",
    "\n",
    "As in this case.\n",
    "\n",
    "\"\"\""
   ]
  },
  {
   "cell_type": "code",
   "execution_count": 58,
   "id": "8501415e-e75d-43c2-8806-bed3090c9f55",
   "metadata": {},
   "outputs": [
    {
     "name": "stdout",
     "output_type": "stream",
     "text": [
      "Line 1 \n",
      "Line 2 \n",
      "Line 3\n"
     ]
    }
   ],
   "source": [
    "multi_line_text = \"Line 1 \\nLine 2 \\nLine 3\"\n",
    "print(multi_line_text)"
   ]
  },
  {
   "cell_type": "markdown",
   "id": "4f1887e4-80e2-41c6-9598-124580edc43d",
   "metadata": {},
   "source": [
    "`\\n` new line character."
   ]
  },
  {
   "cell_type": "code",
   "execution_count": 59,
   "id": "3c494351-bd8d-405d-939d-869a5c3cbe12",
   "metadata": {},
   "outputs": [
    {
     "name": "stdout",
     "output_type": "stream",
     "text": [
      "Hello my dear \n",
      "Python\n"
     ]
    }
   ],
   "source": [
    "print(\"Hello my dear \\nPython\")"
   ]
  },
  {
   "cell_type": "code",
   "execution_count": 60,
   "id": "2b7061dd-dc50-4ed0-8fbb-505e2dcd3e34",
   "metadata": {},
   "outputs": [
    {
     "data": {
      "text/plain": [
       "'\\n    This is line 1\\n        This is line 2\\n            This is line 3\\n'"
      ]
     },
     "execution_count": 60,
     "metadata": {},
     "output_type": "execute_result"
    }
   ],
   "source": [
    "\"\"\"\n",
    "    This is line 1\n",
    "        This is line 2\n",
    "            This is line 3\n",
    "\"\"\""
   ]
  },
  {
   "cell_type": "code",
   "execution_count": 61,
   "id": "65db4d89-ef35-4371-a7f9-679ac1f223f8",
   "metadata": {},
   "outputs": [
    {
     "name": "stdout",
     "output_type": "stream",
     "text": [
      "\n",
      "    This is line 1\n",
      "        This is line 2\n",
      "            This is line 3\n",
      "\n"
     ]
    }
   ],
   "source": [
    "print(\"\"\"\n",
    "    This is line 1\n",
    "        This is line 2\n",
    "            This is line 3\n",
    "\"\"\")"
   ]
  },
  {
   "cell_type": "markdown",
   "id": "8807e933-5013-4d73-9438-6b186a269b65",
   "metadata": {},
   "source": [
    "# Numeric Operations"
   ]
  },
  {
   "cell_type": "code",
   "execution_count": 63,
   "id": "96d7fe8b-6b8d-4808-b2ba-682779d6a230",
   "metadata": {},
   "outputs": [],
   "source": [
    "# define two variables\n",
    "\n",
    "a = 30\n",
    "b = 7"
   ]
  },
  {
   "cell_type": "code",
   "execution_count": 66,
   "id": "2e0d68eb-aed2-4865-aa23-4389fb098d4c",
   "metadata": {},
   "outputs": [
    {
     "name": "stdout",
     "output_type": "stream",
     "text": [
      "37\n"
     ]
    }
   ],
   "source": [
    "print(a + b) # addition"
   ]
  },
  {
   "cell_type": "code",
   "execution_count": 67,
   "id": "d693a5e1-4956-424d-bad4-ddffefcca359",
   "metadata": {},
   "outputs": [
    {
     "name": "stdout",
     "output_type": "stream",
     "text": [
      "23\n"
     ]
    }
   ],
   "source": [
    "print(a - b) # subtraction"
   ]
  },
  {
   "cell_type": "code",
   "execution_count": 68,
   "id": "0f237b3a-1772-49f3-8a18-9a5dfe1a081b",
   "metadata": {},
   "outputs": [
    {
     "name": "stdout",
     "output_type": "stream",
     "text": [
      "210\n"
     ]
    }
   ],
   "source": [
    "print(a * b) # multiplication"
   ]
  },
  {
   "cell_type": "code",
   "execution_count": 69,
   "id": "84fd3ffa-31c5-442a-a276-878e65ba7988",
   "metadata": {},
   "outputs": [
    {
     "name": "stdout",
     "output_type": "stream",
     "text": [
      "4.285714285714286\n"
     ]
    }
   ],
   "source": [
    "print(a / b) # division"
   ]
  },
  {
   "cell_type": "code",
   "execution_count": 70,
   "id": "04f6d553-4af3-4ed1-b5e7-2890861606d2",
   "metadata": {},
   "outputs": [
    {
     "name": "stdout",
     "output_type": "stream",
     "text": [
      "4\n"
     ]
    }
   ],
   "source": [
    "print(a // b) # floor division"
   ]
  },
  {
   "cell_type": "code",
   "execution_count": 71,
   "id": "d661a3c8-c708-424c-baf6-0e367fa2c3da",
   "metadata": {},
   "outputs": [
    {
     "name": "stdout",
     "output_type": "stream",
     "text": [
      "2\n"
     ]
    }
   ],
   "source": [
    "print(a % b) # modulus"
   ]
  },
  {
   "cell_type": "code",
   "execution_count": 72,
   "id": "e032851c-ff44-4329-9d5b-77691be2fd48",
   "metadata": {},
   "outputs": [
    {
     "name": "stdout",
     "output_type": "stream",
     "text": [
      "21870000000\n"
     ]
    }
   ],
   "source": [
    "print(a**b) # power"
   ]
  },
  {
   "cell_type": "markdown",
   "id": "8edee4f6-7a2d-4814-9b36-cfac8bedf1bf",
   "metadata": {},
   "source": [
    "**Order of Operations:** Parenthesis, Exponents, Division, Multiplication, Addition, Subtraction\n",
    "\n",
    "`PEDMAS`"
   ]
  },
  {
   "cell_type": "code",
   "execution_count": 74,
   "id": "ccbdea69-3e91-4df5-a532-445f03057e03",
   "metadata": {},
   "outputs": [
    {
     "name": "stdout",
     "output_type": "stream",
     "text": [
      "13.0\n"
     ]
    }
   ],
   "source": [
    "print(4 * 5 - 9 + 14 / 7)"
   ]
  },
  {
   "cell_type": "code",
   "execution_count": 79,
   "id": "96c1e065-2a6d-4fb9-aaa3-ed5c933fdac3",
   "metadata": {},
   "outputs": [
    {
     "data": {
      "text/plain": [
       "10"
      ]
     },
     "execution_count": 79,
     "metadata": {},
     "output_type": "execute_result"
    }
   ],
   "source": [
    "a = 9\n",
    "a\n",
    "# Increment a by 1\n",
    "a = a + 1\n",
    "a"
   ]
  },
  {
   "cell_type": "code",
   "execution_count": 80,
   "id": "2fb27351-86e1-4d98-80c1-3d8dde088691",
   "metadata": {},
   "outputs": [],
   "source": [
    "a = a + 4"
   ]
  },
  {
   "cell_type": "code",
   "execution_count": 81,
   "id": "245165fa-581b-446f-829f-ee95c1a87a21",
   "metadata": {},
   "outputs": [
    {
     "data": {
      "text/plain": [
       "14"
      ]
     },
     "execution_count": 81,
     "metadata": {},
     "output_type": "execute_result"
    }
   ],
   "source": [
    "a"
   ]
  },
  {
   "cell_type": "code",
   "execution_count": 86,
   "id": "1d4e854e-0cbc-47e6-8d84-832e6df4204a",
   "metadata": {},
   "outputs": [
    {
     "data": {
      "text/plain": [
       "18"
      ]
     },
     "execution_count": 86,
     "metadata": {},
     "output_type": "execute_result"
    }
   ],
   "source": [
    "# Shorthand Increment -> +=\n",
    "a\n",
    "a += 1 # a = a + 1\n",
    "a"
   ]
  },
  {
   "cell_type": "code",
   "execution_count": 87,
   "id": "af3e6904-498f-4721-899c-34209bd1a542",
   "metadata": {},
   "outputs": [
    {
     "data": {
      "text/plain": [
       "12"
      ]
     },
     "execution_count": 87,
     "metadata": {},
     "output_type": "execute_result"
    }
   ],
   "source": [
    "# Shorthand Decrement -> -=\n",
    "\n",
    "a -= 6 # a = a - 1\n",
    "a"
   ]
  },
  {
   "cell_type": "code",
   "execution_count": 88,
   "id": "f237c743-c3e8-43ea-bfb8-b1e6c675d19a",
   "metadata": {},
   "outputs": [
    {
     "data": {
      "text/plain": [
       "60"
      ]
     },
     "execution_count": 88,
     "metadata": {},
     "output_type": "execute_result"
    }
   ],
   "source": [
    "# Shorthand Multiply -> *=\n",
    "\n",
    "a *= 5 # a = a * 5\n",
    "a"
   ]
  },
  {
   "cell_type": "code",
   "execution_count": 89,
   "id": "1be6aaef-fe18-4371-99ca-20d95c84f72d",
   "metadata": {},
   "outputs": [
    {
     "data": {
      "text/plain": [
       "5.454545454545454"
      ]
     },
     "execution_count": 89,
     "metadata": {},
     "output_type": "execute_result"
    }
   ],
   "source": [
    "# Shorthand Division -> /=\n",
    "\n",
    "a /= 11 # a = a / 11\n",
    "a"
   ]
  },
  {
   "cell_type": "code",
   "execution_count": null,
   "id": "3ba5abab-0dce-4f8e-925b-5c781bfcd600",
   "metadata": {},
   "outputs": [],
   "source": []
  }
 ],
 "metadata": {
  "kernelspec": {
   "display_name": "Python 3 (ipykernel)",
   "language": "python",
   "name": "python3"
  },
  "language_info": {
   "codemirror_mode": {
    "name": "ipython",
    "version": 3
   },
   "file_extension": ".py",
   "mimetype": "text/x-python",
   "name": "python",
   "nbconvert_exporter": "python",
   "pygments_lexer": "ipython3",
   "version": "3.12.4"
  }
 },
 "nbformat": 4,
 "nbformat_minor": 5
}
