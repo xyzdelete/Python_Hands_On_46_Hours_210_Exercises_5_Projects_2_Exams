{
 "cells": [
  {
   "cell_type": "markdown",
   "id": "5fe329f9-7977-45ed-ac89-22d26dcba398",
   "metadata": {},
   "source": [
    "# Variables"
   ]
  },
  {
   "cell_type": "markdown",
   "id": "e8efb421-9c44-43e4-beb2-5e26558b346b",
   "metadata": {},
   "source": [
    "## What is a variable?"
   ]
  },
  {
   "cell_type": "markdown",
   "id": "125e4a02-9d79-4292-be7a-24c68660f71c",
   "metadata": {},
   "source": [
    "**Variable** is a name referring to a value."
   ]
  },
  {
   "cell_type": "markdown",
   "id": "41f0a9a4-2e2b-4d2c-b422-8b49f2bcc836",
   "metadata": {},
   "source": [
    "It is the **name of the address** for that value in memory."
   ]
  },
  {
   "cell_type": "markdown",
   "id": "ef430015-a826-4325-a2e0-b9b13776011f",
   "metadata": {},
   "source": [
    "**Assignment** creates a variable and binds it to the given value.\n",
    "\n",
    "`=`"
   ]
  },
  {
   "cell_type": "code",
   "execution_count": 1,
   "id": "fa397e32-8315-4a00-82a1-d0b5d6f41daf",
   "metadata": {},
   "outputs": [],
   "source": [
    "a = 12"
   ]
  },
  {
   "cell_type": "code",
   "execution_count": 2,
   "id": "7f6e4720-a70f-4320-93ca-bfd08549dfa6",
   "metadata": {},
   "outputs": [
    {
     "data": {
      "text/plain": [
       "12"
      ]
     },
     "execution_count": 2,
     "metadata": {},
     "output_type": "execute_result"
    }
   ],
   "source": [
    "a"
   ]
  },
  {
   "cell_type": "code",
   "execution_count": 3,
   "id": "f8a02e4c-716a-4ccb-98ee-2a848b8fb999",
   "metadata": {},
   "outputs": [],
   "source": [
    "info = \"Python name comes from Monthy Python and Holly Grail\""
   ]
  },
  {
   "cell_type": "code",
   "execution_count": 4,
   "id": "0b46de75-9052-40db-a223-ab1093fd022d",
   "metadata": {},
   "outputs": [
    {
     "name": "stdout",
     "output_type": "stream",
     "text": [
      "Python name comes from Monthy Python and Holly Grail\n"
     ]
    }
   ],
   "source": [
    "print(info)"
   ]
  },
  {
   "cell_type": "code",
   "execution_count": 5,
   "id": "7703e32b-d6f9-41e5-9f4e-1abf20457850",
   "metadata": {},
   "outputs": [],
   "source": [
    "pi = 3.1415"
   ]
  },
  {
   "cell_type": "code",
   "execution_count": 6,
   "id": "555bcc51-013b-4bb1-8fce-b3ff29f247d7",
   "metadata": {},
   "outputs": [
    {
     "name": "stdout",
     "output_type": "stream",
     "text": [
      "3.1415\n"
     ]
    }
   ],
   "source": [
    "print(pi)"
   ]
  },
  {
   "cell_type": "code",
   "execution_count": 7,
   "id": "5c98d940-5490-4471-b403-3b02a4d314ca",
   "metadata": {},
   "outputs": [],
   "source": [
    "n = 12"
   ]
  },
  {
   "cell_type": "code",
   "execution_count": 8,
   "id": "9826e0c7-e974-4fc9-9c5c-9b650ce1b3f0",
   "metadata": {},
   "outputs": [
    {
     "data": {
      "text/plain": [
       "12"
      ]
     },
     "execution_count": 8,
     "metadata": {},
     "output_type": "execute_result"
    }
   ],
   "source": [
    "n"
   ]
  },
  {
   "cell_type": "code",
   "execution_count": 9,
   "id": "5a951cfb-561f-4252-a7b7-acd00bb47cfe",
   "metadata": {},
   "outputs": [],
   "source": [
    "a = 1000"
   ]
  },
  {
   "cell_type": "code",
   "execution_count": 10,
   "id": "4a76a8e2-2365-4d35-a84c-acfb49b9dbb0",
   "metadata": {},
   "outputs": [
    {
     "data": {
      "text/plain": [
       "1000"
      ]
     },
     "execution_count": 10,
     "metadata": {},
     "output_type": "execute_result"
    }
   ],
   "source": [
    "a"
   ]
  },
  {
   "cell_type": "code",
   "execution_count": 11,
   "id": "9907363d-fe82-46fb-a19d-cbb36ce4c81c",
   "metadata": {},
   "outputs": [],
   "source": [
    "a = 3000"
   ]
  },
  {
   "cell_type": "code",
   "execution_count": 12,
   "id": "9cbf8c25-d684-489b-b3a3-1f40424ec7b5",
   "metadata": {},
   "outputs": [
    {
     "data": {
      "text/plain": [
       "3000"
      ]
     },
     "execution_count": 12,
     "metadata": {},
     "output_type": "execute_result"
    }
   ],
   "source": [
    "a"
   ]
  },
  {
   "cell_type": "markdown",
   "id": "076604eb-577a-4edb-a8c8-b6ca34f6295e",
   "metadata": {},
   "source": [
    "# Variable Names"
   ]
  },
  {
   "cell_type": "markdown",
   "id": "94145a2f-1c0a-47e4-ac4d-5e5d3e100a42",
   "metadata": {},
   "source": [
    "In Python, Variable names:\n",
    "\n",
    "* should be meaningful, self-explanatory\n",
    "* generally we use snake_case\n",
    "  \n",
    "  average_car\n",
    "  \n",
    "  starting_index\n",
    "\n",
    "Variable names CAN NOT:\n",
    "\n",
    "* start with a number\n",
    "    * 1number\n",
    "    * 3_rd_position\n",
    " \n",
    "* include space\n",
    "    * average speed\n",
    "\n",
    "* include special character\n",
    "    * @, -, +, *, etc.\n",
    "    * @number\n",
    "\n",
    "* include keywords\n",
    "    * and, for, true, return, if..."
   ]
  },
  {
   "cell_type": "code",
   "execution_count": 13,
   "id": "94c53545-8fde-4b92-b68a-aaaafb0d9d48",
   "metadata": {},
   "outputs": [
    {
     "ename": "SyntaxError",
     "evalue": "invalid decimal literal (3334007549.py, line 1)",
     "output_type": "error",
     "traceback": [
      "\u001b[1;36m  Cell \u001b[1;32mIn[13], line 1\u001b[1;36m\u001b[0m\n\u001b[1;33m    1number = 12345\u001b[0m\n\u001b[1;37m    ^\u001b[0m\n\u001b[1;31mSyntaxError\u001b[0m\u001b[1;31m:\u001b[0m invalid decimal literal\n"
     ]
    }
   ],
   "source": [
    "1number = 12345"
   ]
  },
  {
   "cell_type": "code",
   "execution_count": 14,
   "id": "8bff7054-3aca-412c-892a-af95a3a39eab",
   "metadata": {},
   "outputs": [],
   "source": [
    "average_speed = 80"
   ]
  },
  {
   "cell_type": "code",
   "execution_count": 15,
   "id": "f3757114-015a-4ddc-904e-9c621c76bb7c",
   "metadata": {},
   "outputs": [
    {
     "ename": "SyntaxError",
     "evalue": "invalid syntax (3979765169.py, line 1)",
     "output_type": "error",
     "traceback": [
      "\u001b[1;36m  Cell \u001b[1;32mIn[15], line 1\u001b[1;36m\u001b[0m\n\u001b[1;33m    average speed = 85\u001b[0m\n\u001b[1;37m            ^\u001b[0m\n\u001b[1;31mSyntaxError\u001b[0m\u001b[1;31m:\u001b[0m invalid syntax\n"
     ]
    }
   ],
   "source": [
    "average speed = 85"
   ]
  },
  {
   "cell_type": "code",
   "execution_count": 16,
   "id": "68c056e8-461d-4aa6-a7aa-05fa65f19807",
   "metadata": {},
   "outputs": [
    {
     "ename": "SyntaxError",
     "evalue": "invalid syntax. Maybe you meant '==' or ':=' instead of '='? (2714986626.py, line 1)",
     "output_type": "error",
     "traceback": [
      "\u001b[1;36m  Cell \u001b[1;32mIn[16], line 1\u001b[1;36m\u001b[0m\n\u001b[1;33m    @tenth = 10\u001b[0m\n\u001b[1;37m     ^\u001b[0m\n\u001b[1;31mSyntaxError\u001b[0m\u001b[1;31m:\u001b[0m invalid syntax. Maybe you meant '==' or ':=' instead of '='?\n"
     ]
    }
   ],
   "source": [
    "@tenth = 10"
   ]
  },
  {
   "cell_type": "code",
   "execution_count": 17,
   "id": "2444587d-b3d0-49e6-89c4-60118e66e8e6",
   "metadata": {},
   "outputs": [
    {
     "ename": "SyntaxError",
     "evalue": "invalid syntax (2046953698.py, line 1)",
     "output_type": "error",
     "traceback": [
      "\u001b[1;36m  Cell \u001b[1;32mIn[17], line 1\u001b[1;36m\u001b[0m\n\u001b[1;33m    for = 4\u001b[0m\n\u001b[1;37m        ^\u001b[0m\n\u001b[1;31mSyntaxError\u001b[0m\u001b[1;31m:\u001b[0m invalid syntax\n"
     ]
    }
   ],
   "source": [
    "for = 4"
   ]
  },
  {
   "cell_type": "code",
   "execution_count": 18,
   "id": "ccd3d5a2-148b-487a-8f04-f61151324679",
   "metadata": {},
   "outputs": [
    {
     "ename": "SyntaxError",
     "evalue": "starred assignment target must be in a list or tuple (1810212927.py, line 1)",
     "output_type": "error",
     "traceback": [
      "\u001b[1;36m  Cell \u001b[1;32mIn[18], line 1\u001b[1;36m\u001b[0m\n\u001b[1;33m    *a = 45\u001b[0m\n\u001b[1;37m    ^\u001b[0m\n\u001b[1;31mSyntaxError\u001b[0m\u001b[1;31m:\u001b[0m starred assignment target must be in a list or tuple\n"
     ]
    }
   ],
   "source": [
    "*a = 45"
   ]
  },
  {
   "cell_type": "markdown",
   "id": "d4de955e-712e-4922-b800-5c17230ba253",
   "metadata": {},
   "source": [
    "**Important:**\n",
    "\n",
    "In Python, **CAPITAL-small** letters are different.\n",
    "\n",
    "`Python is CASE SENSITIVE`"
   ]
  },
  {
   "cell_type": "code",
   "execution_count": 19,
   "id": "9b31a106-381e-4931-9639-d3289067e19c",
   "metadata": {},
   "outputs": [],
   "source": [
    "a = 10\n",
    "A = 45"
   ]
  },
  {
   "cell_type": "code",
   "execution_count": 20,
   "id": "800f7407-8bb2-4a42-a1c7-6eca08112c95",
   "metadata": {},
   "outputs": [
    {
     "name": "stdout",
     "output_type": "stream",
     "text": [
      "10\n"
     ]
    }
   ],
   "source": [
    "print(a)"
   ]
  },
  {
   "cell_type": "code",
   "execution_count": 21,
   "id": "df88d402-caa7-4f67-995b-c71cc83b5041",
   "metadata": {},
   "outputs": [
    {
     "name": "stdout",
     "output_type": "stream",
     "text": [
      "45\n"
     ]
    }
   ],
   "source": [
    "print(A)"
   ]
  },
  {
   "cell_type": "markdown",
   "id": "cb5e0494-a86c-414f-bc05-5ccf43d95082",
   "metadata": {},
   "source": [
    "a is not equal to A in Python."
   ]
  },
  {
   "cell_type": "code",
   "execution_count": 22,
   "id": "c5356bf4-f060-4407-a1a3-9eeea89644e9",
   "metadata": {},
   "outputs": [
    {
     "name": "stdout",
     "output_type": "stream",
     "text": [
      "5\n"
     ]
    }
   ],
   "source": [
    "num = 5\n",
    "Num = 12\n",
    "print(num)"
   ]
  },
  {
   "cell_type": "markdown",
   "id": "1c08dd3f-8540-4a32-b3a1-daa352332cb2",
   "metadata": {},
   "source": [
    "**Unicode Characters:**\n",
    "\n",
    "Try not to use Unicode Characters in variable names.\n",
    "\n",
    "Only use English Alphabet (ASCII)."
   ]
  },
  {
   "cell_type": "code",
   "execution_count": 23,
   "id": "03de1b40-6a11-43d8-ab47-6d214032fc1c",
   "metadata": {},
   "outputs": [],
   "source": [
    "Ω_omega = 80"
   ]
  },
  {
   "cell_type": "code",
   "execution_count": null,
   "id": "3d547707-4788-4a88-be6a-dc655f223d54",
   "metadata": {},
   "outputs": [],
   "source": []
  }
 ],
 "metadata": {
  "kernelspec": {
   "display_name": "Python 3 (ipykernel)",
   "language": "python",
   "name": "python3"
  },
  "language_info": {
   "codemirror_mode": {
    "name": "ipython",
    "version": 3
   },
   "file_extension": ".py",
   "mimetype": "text/x-python",
   "name": "python",
   "nbconvert_exporter": "python",
   "pygments_lexer": "ipython3",
   "version": "3.12.4"
  }
 },
 "nbformat": 4,
 "nbformat_minor": 5
}
