{
 "cells": [
  {
   "cell_type": "markdown",
   "id": "ee983c4b-65e5-46b5-b0af-06fe0b9590c1",
   "metadata": {},
   "source": [
    "# Functions I"
   ]
  },
  {
   "cell_type": "markdown",
   "id": "bc538b77-5544-4b8e-a1f8-bc318b7eebc0",
   "metadata": {},
   "source": [
    "## What is a function?"
   ]
  },
  {
   "cell_type": "markdown",
   "id": "837e1302-71ad-4727-8e05-e95568568297",
   "metadata": {},
   "source": [
    "**Function** is a special code fragment written to perform specific task."
   ]
  },
  {
   "cell_type": "markdown",
   "id": "e2563108-cf7e-4d0b-812d-62ec656eafce",
   "metadata": {},
   "source": [
    "Functions only run, when you call them."
   ]
  },
  {
   "cell_type": "markdown",
   "id": "855a9ea8-5116-4bdd-89ee-86e1a27d1410",
   "metadata": {},
   "source": [
    "Functions may have parameters (arguments)."
   ]
  },
  {
   "cell_type": "markdown",
   "id": "7f06352b-02e5-4289-929e-68fc9abd5575",
   "metadata": {},
   "source": [
    "Functions may return a value back."
   ]
  },
  {
   "cell_type": "markdown",
   "id": "57b259d8-22af-4c82-a7a5-1c15316315f8",
   "metadata": {},
   "source": [
    "Calling a function with parameters:\n",
    "\n",
    "**function_name(parameter_1, parameter_2, ...)**"
   ]
  },
  {
   "cell_type": "markdown",
   "id": "5016eff2-c551-478d-b70c-0884feddfd48",
   "metadata": {},
   "source": [
    "Functions prevent code duplications."
   ]
  },
  {
   "cell_type": "code",
   "execution_count": 2,
   "id": "11f127d4-a38a-4abd-acdf-e5a0b8638cad",
   "metadata": {},
   "outputs": [
    {
     "data": {
      "text/plain": [
       "int"
      ]
     },
     "execution_count": 2,
     "metadata": {},
     "output_type": "execute_result"
    }
   ],
   "source": [
    "# type()\n",
    "\n",
    "type(42)"
   ]
  },
  {
   "cell_type": "code",
   "execution_count": 3,
   "id": "60a3f198-b3fb-4796-b9cb-ae4dfe0dc127",
   "metadata": {},
   "outputs": [
    {
     "data": {
      "text/plain": [
       "str"
      ]
     },
     "execution_count": 3,
     "metadata": {},
     "output_type": "execute_result"
    }
   ],
   "source": [
    "type('a sunny day')"
   ]
  },
  {
   "cell_type": "code",
   "execution_count": 4,
   "id": "3a5bcf3e-eace-4712-9ac4-260b207af743",
   "metadata": {},
   "outputs": [
    {
     "data": {
      "text/plain": [
       "str"
      ]
     },
     "execution_count": 4,
     "metadata": {},
     "output_type": "execute_result"
    }
   ],
   "source": [
    "type('AI')"
   ]
  },
  {
   "cell_type": "code",
   "execution_count": 6,
   "id": "a751c7ed-6dcc-43db-9b03-400e823af455",
   "metadata": {},
   "outputs": [
    {
     "data": {
      "text/plain": [
       "5"
      ]
     },
     "execution_count": 6,
     "metadata": {},
     "output_type": "execute_result"
    }
   ],
   "source": [
    "# int() -> converts the given argument to int\n",
    "\n",
    "int(5.68)"
   ]
  },
  {
   "cell_type": "code",
   "execution_count": 7,
   "id": "c2b3f32c-1b64-4f2b-a2c4-6c7f1ff5edac",
   "metadata": {},
   "outputs": [
    {
     "ename": "ValueError",
     "evalue": "invalid literal for int() with base 10: 'value'",
     "output_type": "error",
     "traceback": [
      "\u001b[1;31m---------------------------------------------------------------------------\u001b[0m",
      "\u001b[1;31mValueError\u001b[0m                                Traceback (most recent call last)",
      "Cell \u001b[1;32mIn[7], line 1\u001b[0m\n\u001b[1;32m----> 1\u001b[0m \u001b[38;5;28mint\u001b[39m(\u001b[38;5;124m'\u001b[39m\u001b[38;5;124mvalue\u001b[39m\u001b[38;5;124m'\u001b[39m)\n",
      "\u001b[1;31mValueError\u001b[0m: invalid literal for int() with base 10: 'value'"
     ]
    }
   ],
   "source": [
    "int('value')"
   ]
  },
  {
   "cell_type": "code",
   "execution_count": 8,
   "id": "507e75b5-6ea2-49b2-a484-f4524bbef412",
   "metadata": {},
   "outputs": [
    {
     "data": {
      "text/plain": [
       "82"
      ]
     },
     "execution_count": 8,
     "metadata": {},
     "output_type": "execute_result"
    }
   ],
   "source": [
    "int(\"82\")"
   ]
  },
  {
   "cell_type": "code",
   "execution_count": 10,
   "id": "7f05c3cc-f0d7-4c27-85a7-05d5f920a63b",
   "metadata": {},
   "outputs": [
    {
     "data": {
      "text/plain": [
       "'45'"
      ]
     },
     "execution_count": 10,
     "metadata": {},
     "output_type": "execute_result"
    }
   ],
   "source": [
    "# str() -> converts (casts) the given argument into string\n",
    "\n",
    "str(45)"
   ]
  },
  {
   "cell_type": "code",
   "execution_count": 11,
   "id": "c06b141d-dc01-46d7-b261-27d24c8bd8b0",
   "metadata": {},
   "outputs": [
    {
     "data": {
      "text/plain": [
       "'4.57'"
      ]
     },
     "execution_count": 11,
     "metadata": {},
     "output_type": "execute_result"
    }
   ],
   "source": [
    "str(4.57)"
   ]
  },
  {
   "cell_type": "code",
   "execution_count": 12,
   "id": "09cda85a-da5e-44fc-ace3-c4be65d633f1",
   "metadata": {},
   "outputs": [
    {
     "data": {
      "text/plain": [
       "'Gotham'"
      ]
     },
     "execution_count": 12,
     "metadata": {},
     "output_type": "execute_result"
    }
   ],
   "source": [
    "str(\"Gotham\")"
   ]
  },
  {
   "cell_type": "code",
   "execution_count": 14,
   "id": "319ba5ee-ac00-40bc-b461-7794759d8e1e",
   "metadata": {},
   "outputs": [
    {
     "data": {
      "text/plain": [
       "12.0"
      ]
     },
     "execution_count": 14,
     "metadata": {},
     "output_type": "execute_result"
    }
   ],
   "source": [
    "# float() -> casts the given argument into float\n",
    "\n",
    "float(12)"
   ]
  },
  {
   "cell_type": "code",
   "execution_count": 15,
   "id": "08f92fcb-a41e-4dc7-a461-3362ce4e3d97",
   "metadata": {},
   "outputs": [
    {
     "data": {
      "text/plain": [
       "4.0"
      ]
     },
     "execution_count": 15,
     "metadata": {},
     "output_type": "execute_result"
    }
   ],
   "source": [
    "float('4')"
   ]
  },
  {
   "cell_type": "code",
   "execution_count": 16,
   "id": "9a9a18a0-701e-413d-a1b0-e226974e1047",
   "metadata": {},
   "outputs": [
    {
     "data": {
      "text/plain": [
       "-78.0"
      ]
     },
     "execution_count": 16,
     "metadata": {},
     "output_type": "execute_result"
    }
   ],
   "source": [
    "num = \"-78\"\n",
    "float(num)"
   ]
  },
  {
   "cell_type": "code",
   "execution_count": 17,
   "id": "c796b6fa-13bc-4e16-8513-b777a88672f2",
   "metadata": {},
   "outputs": [
    {
     "ename": "ValueError",
     "evalue": "could not convert string to float: '78-'",
     "output_type": "error",
     "traceback": [
      "\u001b[1;31m---------------------------------------------------------------------------\u001b[0m",
      "\u001b[1;31mValueError\u001b[0m                                Traceback (most recent call last)",
      "Cell \u001b[1;32mIn[17], line 2\u001b[0m\n\u001b[0;32m      1\u001b[0m num \u001b[38;5;241m=\u001b[39m \u001b[38;5;124m\"\u001b[39m\u001b[38;5;124m78-\u001b[39m\u001b[38;5;124m\"\u001b[39m\n\u001b[1;32m----> 2\u001b[0m \u001b[38;5;28mfloat\u001b[39m(num)\n",
      "\u001b[1;31mValueError\u001b[0m: could not convert string to float: '78-'"
     ]
    }
   ],
   "source": [
    "num = \"78-\"\n",
    "float(num)"
   ]
  },
  {
   "cell_type": "markdown",
   "id": "1bb678a8-a03a-4921-a32e-7d7a32ce7772",
   "metadata": {},
   "source": [
    "# Math Functions (math)"
   ]
  },
  {
   "cell_type": "markdown",
   "id": "0d3dc603-f647-4ab5-b8b4-0126ef757061",
   "metadata": {},
   "source": [
    "We use **math** module to do mathematical operations."
   ]
  },
  {
   "cell_type": "markdown",
   "id": "58f7a127-ff3d-464a-8339-c436b5d9cd6a",
   "metadata": {},
   "source": [
    "**Module** is any Python file (.py) that includes executable Python code."
   ]
  },
  {
   "cell_type": "code",
   "execution_count": 2,
   "id": "6c515e34-7d34-44bb-9e1d-21420dc982ad",
   "metadata": {},
   "outputs": [],
   "source": [
    "# import math module\n",
    "\n",
    "import math"
   ]
  },
  {
   "cell_type": "code",
   "execution_count": 19,
   "id": "3e7b42c7-944d-41d4-ab6c-7bb46812c069",
   "metadata": {},
   "outputs": [
    {
     "name": "stdout",
     "output_type": "stream",
     "text": [
      "<module 'math' (built-in)>\n"
     ]
    }
   ],
   "source": [
    "# see the module docs\n",
    "\n",
    "print(math)"
   ]
  },
  {
   "cell_type": "code",
   "execution_count": 3,
   "id": "444b7199-e199-40be-b8b6-71d5c80722eb",
   "metadata": {},
   "outputs": [
    {
     "name": "stdout",
     "output_type": "stream",
     "text": [
      "Help on built-in module math:\n",
      "\n",
      "NAME\n",
      "    math\n",
      "\n",
      "DESCRIPTION\n",
      "    This module provides access to the mathematical functions\n",
      "    defined by the C standard.\n",
      "\n",
      "FUNCTIONS\n",
      "    acos(x, /)\n",
      "        Return the arc cosine (measured in radians) of x.\n",
      "\n",
      "        The result is between 0 and pi.\n",
      "\n",
      "    acosh(x, /)\n",
      "        Return the inverse hyperbolic cosine of x.\n",
      "\n",
      "    asin(x, /)\n",
      "        Return the arc sine (measured in radians) of x.\n",
      "\n",
      "        The result is between -pi/2 and pi/2.\n",
      "\n",
      "    asinh(x, /)\n",
      "        Return the inverse hyperbolic sine of x.\n",
      "\n",
      "    atan(x, /)\n",
      "        Return the arc tangent (measured in radians) of x.\n",
      "\n",
      "        The result is between -pi/2 and pi/2.\n",
      "\n",
      "    atan2(y, x, /)\n",
      "        Return the arc tangent (measured in radians) of y/x.\n",
      "\n",
      "        Unlike atan(y/x), the signs of both x and y are considered.\n",
      "\n",
      "    atanh(x, /)\n",
      "        Return the inverse hyperbolic tangent of x.\n",
      "\n",
      "    cbrt(x, /)\n",
      "        Return the cube root of x.\n",
      "\n",
      "    ceil(x, /)\n",
      "        Return the ceiling of x as an Integral.\n",
      "\n",
      "        This is the smallest integer >= x.\n",
      "\n",
      "    comb(n, k, /)\n",
      "        Number of ways to choose k items from n items without repetition and without order.\n",
      "\n",
      "        Evaluates to n! / (k! * (n - k)!) when k <= n and evaluates\n",
      "        to zero when k > n.\n",
      "\n",
      "        Also called the binomial coefficient because it is equivalent\n",
      "        to the coefficient of k-th term in polynomial expansion of the\n",
      "        expression (1 + x)**n.\n",
      "\n",
      "        Raises TypeError if either of the arguments are not integers.\n",
      "        Raises ValueError if either of the arguments are negative.\n",
      "\n",
      "    copysign(x, y, /)\n",
      "        Return a float with the magnitude (absolute value) of x but the sign of y.\n",
      "\n",
      "        On platforms that support signed zeros, copysign(1.0, -0.0)\n",
      "        returns -1.0.\n",
      "\n",
      "    cos(x, /)\n",
      "        Return the cosine of x (measured in radians).\n",
      "\n",
      "    cosh(x, /)\n",
      "        Return the hyperbolic cosine of x.\n",
      "\n",
      "    degrees(x, /)\n",
      "        Convert angle x from radians to degrees.\n",
      "\n",
      "    dist(p, q, /)\n",
      "        Return the Euclidean distance between two points p and q.\n",
      "\n",
      "        The points should be specified as sequences (or iterables) of\n",
      "        coordinates.  Both inputs must have the same dimension.\n",
      "\n",
      "        Roughly equivalent to:\n",
      "            sqrt(sum((px - qx) ** 2.0 for px, qx in zip(p, q)))\n",
      "\n",
      "    erf(x, /)\n",
      "        Error function at x.\n",
      "\n",
      "    erfc(x, /)\n",
      "        Complementary error function at x.\n",
      "\n",
      "    exp(x, /)\n",
      "        Return e raised to the power of x.\n",
      "\n",
      "    exp2(x, /)\n",
      "        Return 2 raised to the power of x.\n",
      "\n",
      "    expm1(x, /)\n",
      "        Return exp(x)-1.\n",
      "\n",
      "        This function avoids the loss of precision involved in the direct evaluation of exp(x)-1 for small x.\n",
      "\n",
      "    fabs(x, /)\n",
      "        Return the absolute value of the float x.\n",
      "\n",
      "    factorial(n, /)\n",
      "        Find n!.\n",
      "\n",
      "        Raise a ValueError if x is negative or non-integral.\n",
      "\n",
      "    floor(x, /)\n",
      "        Return the floor of x as an Integral.\n",
      "\n",
      "        This is the largest integer <= x.\n",
      "\n",
      "    fmod(x, y, /)\n",
      "        Return fmod(x, y), according to platform C.\n",
      "\n",
      "        x % y may differ.\n",
      "\n",
      "    frexp(x, /)\n",
      "        Return the mantissa and exponent of x, as pair (m, e).\n",
      "\n",
      "        m is a float and e is an int, such that x = m * 2.**e.\n",
      "        If x is 0, m and e are both 0.  Else 0.5 <= abs(m) < 1.0.\n",
      "\n",
      "    fsum(seq, /)\n",
      "        Return an accurate floating point sum of values in the iterable seq.\n",
      "\n",
      "        Assumes IEEE-754 floating point arithmetic.\n",
      "\n",
      "    gamma(x, /)\n",
      "        Gamma function at x.\n",
      "\n",
      "    gcd(*integers)\n",
      "        Greatest Common Divisor.\n",
      "\n",
      "    hypot(...)\n",
      "        hypot(*coordinates) -> value\n",
      "\n",
      "        Multidimensional Euclidean distance from the origin to a point.\n",
      "\n",
      "        Roughly equivalent to:\n",
      "            sqrt(sum(x**2 for x in coordinates))\n",
      "\n",
      "        For a two dimensional point (x, y), gives the hypotenuse\n",
      "        using the Pythagorean theorem:  sqrt(x*x + y*y).\n",
      "\n",
      "        For example, the hypotenuse of a 3/4/5 right triangle is:\n",
      "\n",
      "            >>> hypot(3.0, 4.0)\n",
      "            5.0\n",
      "\n",
      "    isclose(a, b, *, rel_tol=1e-09, abs_tol=0.0)\n",
      "        Determine whether two floating point numbers are close in value.\n",
      "\n",
      "          rel_tol\n",
      "            maximum difference for being considered \"close\", relative to the\n",
      "            magnitude of the input values\n",
      "          abs_tol\n",
      "            maximum difference for being considered \"close\", regardless of the\n",
      "            magnitude of the input values\n",
      "\n",
      "        Return True if a is close in value to b, and False otherwise.\n",
      "\n",
      "        For the values to be considered close, the difference between them\n",
      "        must be smaller than at least one of the tolerances.\n",
      "\n",
      "        -inf, inf and NaN behave similarly to the IEEE 754 Standard.  That\n",
      "        is, NaN is not close to anything, even itself.  inf and -inf are\n",
      "        only close to themselves.\n",
      "\n",
      "    isfinite(x, /)\n",
      "        Return True if x is neither an infinity nor a NaN, and False otherwise.\n",
      "\n",
      "    isinf(x, /)\n",
      "        Return True if x is a positive or negative infinity, and False otherwise.\n",
      "\n",
      "    isnan(x, /)\n",
      "        Return True if x is a NaN (not a number), and False otherwise.\n",
      "\n",
      "    isqrt(n, /)\n",
      "        Return the integer part of the square root of the input.\n",
      "\n",
      "    lcm(*integers)\n",
      "        Least Common Multiple.\n",
      "\n",
      "    ldexp(x, i, /)\n",
      "        Return x * (2**i).\n",
      "\n",
      "        This is essentially the inverse of frexp().\n",
      "\n",
      "    lgamma(x, /)\n",
      "        Natural logarithm of absolute value of Gamma function at x.\n",
      "\n",
      "    log(...)\n",
      "        log(x, [base=math.e])\n",
      "        Return the logarithm of x to the given base.\n",
      "\n",
      "        If the base is not specified, returns the natural logarithm (base e) of x.\n",
      "\n",
      "    log10(x, /)\n",
      "        Return the base 10 logarithm of x.\n",
      "\n",
      "    log1p(x, /)\n",
      "        Return the natural logarithm of 1+x (base e).\n",
      "\n",
      "        The result is computed in a way which is accurate for x near zero.\n",
      "\n",
      "    log2(x, /)\n",
      "        Return the base 2 logarithm of x.\n",
      "\n",
      "    modf(x, /)\n",
      "        Return the fractional and integer parts of x.\n",
      "\n",
      "        Both results carry the sign of x and are floats.\n",
      "\n",
      "    nextafter(x, y, /, *, steps=None)\n",
      "        Return the floating-point value the given number of steps after x towards y.\n",
      "\n",
      "        If steps is not specified or is None, it defaults to 1.\n",
      "\n",
      "        Raises a TypeError, if x or y is not a double, or if steps is not an integer.\n",
      "        Raises ValueError if steps is negative.\n",
      "\n",
      "    perm(n, k=None, /)\n",
      "        Number of ways to choose k items from n items without repetition and with order.\n",
      "\n",
      "        Evaluates to n! / (n - k)! when k <= n and evaluates\n",
      "        to zero when k > n.\n",
      "\n",
      "        If k is not specified or is None, then k defaults to n\n",
      "        and the function returns n!.\n",
      "\n",
      "        Raises TypeError if either of the arguments are not integers.\n",
      "        Raises ValueError if either of the arguments are negative.\n",
      "\n",
      "    pow(x, y, /)\n",
      "        Return x**y (x to the power of y).\n",
      "\n",
      "    prod(iterable, /, *, start=1)\n",
      "        Calculate the product of all the elements in the input iterable.\n",
      "\n",
      "        The default start value for the product is 1.\n",
      "\n",
      "        When the iterable is empty, return the start value.  This function is\n",
      "        intended specifically for use with numeric values and may reject\n",
      "        non-numeric types.\n",
      "\n",
      "    radians(x, /)\n",
      "        Convert angle x from degrees to radians.\n",
      "\n",
      "    remainder(x, y, /)\n",
      "        Difference between x and the closest integer multiple of y.\n",
      "\n",
      "        Return x - n*y where n*y is the closest integer multiple of y.\n",
      "        In the case where x is exactly halfway between two multiples of\n",
      "        y, the nearest even value of n is used. The result is always exact.\n",
      "\n",
      "    sin(x, /)\n",
      "        Return the sine of x (measured in radians).\n",
      "\n",
      "    sinh(x, /)\n",
      "        Return the hyperbolic sine of x.\n",
      "\n",
      "    sqrt(x, /)\n",
      "        Return the square root of x.\n",
      "\n",
      "    sumprod(p, q, /)\n",
      "        Return the sum of products of values from two iterables p and q.\n",
      "\n",
      "        Roughly equivalent to:\n",
      "\n",
      "            sum(itertools.starmap(operator.mul, zip(p, q, strict=True)))\n",
      "\n",
      "        For float and mixed int/float inputs, the intermediate products\n",
      "        and sums are computed with extended precision.\n",
      "\n",
      "    tan(x, /)\n",
      "        Return the tangent of x (measured in radians).\n",
      "\n",
      "    tanh(x, /)\n",
      "        Return the hyperbolic tangent of x.\n",
      "\n",
      "    trunc(x, /)\n",
      "        Truncates the Real x to the nearest Integral toward 0.\n",
      "\n",
      "        Uses the __trunc__ magic method.\n",
      "\n",
      "    ulp(x, /)\n",
      "        Return the value of the least significant bit of the float x.\n",
      "\n",
      "DATA\n",
      "    e = 2.718281828459045\n",
      "    inf = inf\n",
      "    nan = nan\n",
      "    pi = 3.141592653589793\n",
      "    tau = 6.283185307179586\n",
      "\n",
      "FILE\n",
      "    (built-in)\n",
      "\n",
      "\n"
     ]
    }
   ],
   "source": [
    "# see detailed docs\n",
    "\n",
    "# help() -> gives you detailed docs\n",
    "help(math)"
   ]
  },
  {
   "cell_type": "code",
   "execution_count": 4,
   "id": "d61cb893-97cb-4848-ab88-f5772f728947",
   "metadata": {},
   "outputs": [
    {
     "data": {
      "text/plain": [
       "3.141592653589793"
      ]
     },
     "execution_count": 4,
     "metadata": {},
     "output_type": "execute_result"
    }
   ],
   "source": [
    "# we can call any function from module -> . notation\n",
    "\n",
    "math.pi"
   ]
  },
  {
   "cell_type": "code",
   "execution_count": 6,
   "id": "d66fdce4-bf8e-41ba-a125-e71d485a4bb2",
   "metadata": {},
   "outputs": [
    {
     "name": "stdout",
     "output_type": "stream",
     "text": [
      "62.83185307179586\n"
     ]
    }
   ],
   "source": [
    "# Example:\n",
    "\n",
    "# what is the perimeter (circumference) of a circle having radius of 10 cm?\n",
    "# Perimeter = 2 * pi * r\n",
    "\n",
    "# radius\n",
    "r = 10\n",
    "\n",
    "# perimeter\n",
    "perimeter = 2 * math.pi * r\n",
    "\n",
    "print(perimeter)"
   ]
  },
  {
   "cell_type": "code",
   "execution_count": 7,
   "id": "052fb937-601c-4e42-9be3-b3de44830bd9",
   "metadata": {},
   "outputs": [
    {
     "name": "stdout",
     "output_type": "stream",
     "text": [
      "0.5235987755982988\n"
     ]
    }
   ],
   "source": [
    "# Example:\n",
    "\n",
    "# Calculate the sine of 30 degrees -> sin(30)\n",
    "\n",
    "degree = 30\n",
    "\n",
    "# calculate radian\n",
    "radian = math.radians(degree)\n",
    "\n",
    "print(radian)"
   ]
  },
  {
   "cell_type": "code",
   "execution_count": 8,
   "id": "7f81a33e-cada-4b6a-a837-2e1c8cf2f7a5",
   "metadata": {},
   "outputs": [
    {
     "data": {
      "text/plain": [
       "-0.9880316240928618"
      ]
     },
     "execution_count": 8,
     "metadata": {},
     "output_type": "execute_result"
    }
   ],
   "source": [
    "# false usage of function\n",
    "\n",
    "sine = math.sin(degree)\n",
    "sine"
   ]
  },
  {
   "cell_type": "code",
   "execution_count": 9,
   "id": "3cb8a754-1dbc-4573-bc94-3a7348af1462",
   "metadata": {},
   "outputs": [
    {
     "name": "stdout",
     "output_type": "stream",
     "text": [
      "Help on built-in function sin in module math:\n",
      "\n",
      "sin(x, /)\n",
      "    Return the sine of x (measured in radians).\n",
      "\n"
     ]
    }
   ],
   "source": [
    "help(math.sin)"
   ]
  },
  {
   "cell_type": "code",
   "execution_count": 10,
   "id": "6d12ab24-d737-43f5-adcc-22edc4e0a79e",
   "metadata": {},
   "outputs": [
    {
     "data": {
      "text/plain": [
       "0.49999999999999994"
      ]
     },
     "execution_count": 10,
     "metadata": {},
     "output_type": "execute_result"
    }
   ],
   "source": [
    "# correct usage of function\n",
    "\n",
    "sine = math.sin(radian)\n",
    "sine"
   ]
  },
  {
   "cell_type": "markdown",
   "id": "b59db6a8-3ff1-48d0-a8bf-774f38f67f13",
   "metadata": {},
   "source": [
    "**Composition of Functions**\n",
    "\n",
    "Chaining Functions."
   ]
  },
  {
   "cell_type": "code",
   "execution_count": 12,
   "id": "a190a234-5698-432d-9f8a-1f9544dfe565",
   "metadata": {},
   "outputs": [
    {
     "data": {
      "text/plain": [
       "0.49999999999999994"
      ]
     },
     "execution_count": 12,
     "metadata": {},
     "output_type": "execute_result"
    }
   ],
   "source": [
    "\n",
    "degree = 30\n",
    "sine = math.sin(math.radians(degree))\n",
    "sine\n"
   ]
  },
  {
   "cell_type": "markdown",
   "id": "4ef430c5-39e7-4db4-84c7-8f8463677d0d",
   "metadata": {},
   "source": [
    "# Defining Functions"
   ]
  },
  {
   "cell_type": "code",
   "execution_count": 15,
   "id": "acb860dc-0cfb-4675-8f66-891a8d1ef931",
   "metadata": {},
   "outputs": [],
   "source": [
    "# Without Parameters\n",
    "\n",
    "def function_name():\n",
    "    # print line\n",
    "    print(\"My first function\")"
   ]
  },
  {
   "cell_type": "code",
   "execution_count": 14,
   "id": "587f0edf-6236-46e4-be30-356c0f3cd5e7",
   "metadata": {},
   "outputs": [
    {
     "name": "stdout",
     "output_type": "stream",
     "text": [
      "My first function\n"
     ]
    }
   ],
   "source": [
    "# call the function\n",
    "\n",
    "function_name()"
   ]
  },
  {
   "cell_type": "markdown",
   "id": "7cf1c8b3-0642-42e8-a12b-938bc730de40",
   "metadata": {},
   "source": [
    "**Indent:** Python uses indent for scoping.\n",
    "\n",
    "    * indent: tab\n",
    "    * indent: 4 spaces"
   ]
  },
  {
   "cell_type": "code",
   "execution_count": 16,
   "id": "00a907d1-9c38-4101-a4fb-e1722ce1e2c9",
   "metadata": {},
   "outputs": [
    {
     "name": "stdout",
     "output_type": "stream",
     "text": [
      "Name: John Doe\n",
      "Age: 24\n",
      "Language: Python\n"
     ]
    }
   ],
   "source": [
    "\n",
    "# Student data\n",
    "print(\"Name: John Doe\")\n",
    "print(\"Age: 24\")\n",
    "print(\"Language: Python\")\n"
   ]
  },
  {
   "cell_type": "code",
   "execution_count": 17,
   "id": "cc6be3b4-512c-4778-b0c3-20acb4be1ca8",
   "metadata": {},
   "outputs": [
    {
     "name": "stdout",
     "output_type": "stream",
     "text": [
      "Name: John Doe\n",
      "Age: 24\n",
      "Language: Python\n"
     ]
    }
   ],
   "source": [
    "\n",
    "# we need student data again\n",
    "\n",
    "print(\"Name: John Doe\")\n",
    "print(\"Age: 24\")\n",
    "print(\"Language: Python\")\n"
   ]
  },
  {
   "cell_type": "code",
   "execution_count": 18,
   "id": "cc603001-9f4b-4717-ac90-8f8eca3ae18c",
   "metadata": {},
   "outputs": [],
   "source": [
    "\n",
    "# Define a function for student name\n",
    "\n",
    "def student_name():\n",
    "    print(\"Name: John Doe\")\n"
   ]
  },
  {
   "cell_type": "code",
   "execution_count": 20,
   "id": "61bb0299-286e-447a-95f2-002c581d801d",
   "metadata": {},
   "outputs": [
    {
     "name": "stdout",
     "output_type": "stream",
     "text": [
      "Name: John Doe\n"
     ]
    }
   ],
   "source": [
    "student_name()"
   ]
  },
  {
   "cell_type": "code",
   "execution_count": 19,
   "id": "24a54d78-26d9-4174-8ff5-5db5daac6c6a",
   "metadata": {},
   "outputs": [],
   "source": [
    "# Define a function for student age\n",
    "\n",
    "def student_age():\n",
    "    print(\"Age: 24\")"
   ]
  },
  {
   "cell_type": "code",
   "execution_count": 21,
   "id": "11a3885e-6c78-42a2-9f3f-ae63a06c0852",
   "metadata": {},
   "outputs": [
    {
     "name": "stdout",
     "output_type": "stream",
     "text": [
      "Age: 24\n"
     ]
    }
   ],
   "source": [
    "student_age()"
   ]
  },
  {
   "cell_type": "code",
   "execution_count": 22,
   "id": "e5e77092-adf2-4108-9b41-568db20e618a",
   "metadata": {},
   "outputs": [],
   "source": [
    "# Define a function for student language\n",
    "\n",
    "def student_language():\n",
    "    print(\"Language: Python\")"
   ]
  },
  {
   "cell_type": "code",
   "execution_count": 23,
   "id": "6afdc24c-31a3-40e9-ae27-4e5ba2e770f7",
   "metadata": {},
   "outputs": [
    {
     "name": "stdout",
     "output_type": "stream",
     "text": [
      "Language: Python\n"
     ]
    }
   ],
   "source": [
    "student_language()"
   ]
  },
  {
   "cell_type": "code",
   "execution_count": 24,
   "id": "191d5dd7-af14-47c7-9a88-c62e6c68233c",
   "metadata": {},
   "outputs": [
    {
     "name": "stdout",
     "output_type": "stream",
     "text": [
      "Name: John Doe\n",
      "Age: 24\n",
      "Language: Python\n"
     ]
    }
   ],
   "source": [
    "# Print student data again\n",
    "\n",
    "student_name()\n",
    "student_age()\n",
    "student_language()"
   ]
  },
  {
   "cell_type": "code",
   "execution_count": 25,
   "id": "efd97300-34c0-43f8-a242-ee534d684ca7",
   "metadata": {},
   "outputs": [
    {
     "name": "stdout",
     "output_type": "stream",
     "text": [
      "Name: John Doe\n",
      "Age: 24\n",
      "Language: Python\n"
     ]
    }
   ],
   "source": [
    "# Print student data again\n",
    "\n",
    "student_name()\n",
    "student_age()\n",
    "student_language()"
   ]
  },
  {
   "cell_type": "code",
   "execution_count": 26,
   "id": "dccbb7fb-d211-4dde-8406-535b9191bfee",
   "metadata": {},
   "outputs": [],
   "source": [
    "\n",
    "# One function to call all three\n",
    "\n",
    "def student_data():\n",
    "    student_name()\n",
    "    student_age()\n",
    "    student_language()\n"
   ]
  },
  {
   "cell_type": "code",
   "execution_count": 27,
   "id": "89f151d1-1f18-4d56-902f-e657465334b0",
   "metadata": {},
   "outputs": [
    {
     "name": "stdout",
     "output_type": "stream",
     "text": [
      "Name: John Doe\n",
      "Age: 24\n",
      "Language: Python\n"
     ]
    }
   ],
   "source": [
    "student_data()"
   ]
  },
  {
   "cell_type": "markdown",
   "id": "faada181-6683-413b-a3f0-205f563cef78",
   "metadata": {},
   "source": [
    "We want to print students name and lastname separately.\n",
    "\n",
    "\"Name: Peter\"\n",
    "\n",
    "\"Lastname: Parker\""
   ]
  },
  {
   "cell_type": "code",
   "execution_count": 30,
   "id": "04733419-96b2-4958-9c2b-5c04c1ec6388",
   "metadata": {},
   "outputs": [],
   "source": [
    "\n",
    "# create two separate functions\n",
    "\n",
    "def student_firstname():\n",
    "    print(\"Name: Peter\")\n",
    "\n",
    "def student_lastname():\n",
    "    print(\"Lastname: Parker\")\n"
   ]
  },
  {
   "cell_type": "code",
   "execution_count": 31,
   "id": "34cb0e18-a21c-4f93-b45a-3bec72427a6b",
   "metadata": {},
   "outputs": [],
   "source": [
    "\n",
    "# print students name with these functions\n",
    "\n",
    "def student_name():\n",
    "    student_firstname()\n",
    "    student_lastname()\n"
   ]
  },
  {
   "cell_type": "code",
   "execution_count": 32,
   "id": "fd61eb23-6107-4958-9cee-5c93f21571d7",
   "metadata": {},
   "outputs": [
    {
     "name": "stdout",
     "output_type": "stream",
     "text": [
      "Name: Peter\n",
      "Lastname: Parker\n"
     ]
    }
   ],
   "source": [
    "student_name()"
   ]
  },
  {
   "cell_type": "code",
   "execution_count": 33,
   "id": "b60e204a-1cac-43ed-bf13-bca7a8cd0598",
   "metadata": {},
   "outputs": [
    {
     "name": "stdout",
     "output_type": "stream",
     "text": [
      "Name: Peter\n",
      "Lastname: Parker\n",
      "Age: 24\n",
      "Language: Python\n"
     ]
    }
   ],
   "source": [
    "student_data()"
   ]
  },
  {
   "cell_type": "markdown",
   "id": "b1f1b343-10b1-40b1-868e-f38ffa294c5a",
   "metadata": {},
   "source": [
    "**Execution Flow**\n",
    "* Python Interpreter runs the code from the first line\n",
    "* And moves down\n",
    "* If it encounters a function call\n",
    "  \n",
    "      * First it goes into that function\n",
    "      * Executes it\n",
    "      * Waits it to finish\n",
    "      * Returns back\n",
    "* Moves down"
   ]
  },
  {
   "cell_type": "markdown",
   "id": "98d379f7-9010-43bf-aea0-6c2519eafac2",
   "metadata": {},
   "source": [
    "# Parameters (Arguments)"
   ]
  },
  {
   "cell_type": "markdown",
   "id": "e42c9efc-3608-46da-872e-5c4c2a280eb8",
   "metadata": {},
   "source": [
    "**Parameters** are inputs you provide to the function."
   ]
  },
  {
   "cell_type": "markdown",
   "id": "4b47bf66-ca44-4bb9-bc64-2872ab04f09c",
   "metadata": {},
   "source": [
    "You pass the parameters during function call."
   ]
  },
  {
   "cell_type": "code",
   "execution_count": 35,
   "id": "3e7bfa88-d410-42b7-bc44-a67739220989",
   "metadata": {},
   "outputs": [],
   "source": [
    "# define a function which takes a parameter\n",
    "\n",
    "def print_square(number):\n",
    "    # get the square\n",
    "    sqr = number ** 2\n",
    "\n",
    "    # print sqr\n",
    "    print(sqr)"
   ]
  },
  {
   "cell_type": "code",
   "execution_count": 36,
   "id": "ee8f3104-f9c8-4c97-a671-8572a6a6d9ee",
   "metadata": {},
   "outputs": [
    {
     "ename": "TypeError",
     "evalue": "print_square() missing 1 required positional argument: 'number'",
     "output_type": "error",
     "traceback": [
      "\u001b[1;31m---------------------------------------------------------------------------\u001b[0m",
      "\u001b[1;31mTypeError\u001b[0m                                 Traceback (most recent call last)",
      "Cell \u001b[1;32mIn[36], line 3\u001b[0m\n\u001b[0;32m      1\u001b[0m \u001b[38;5;66;03m# call it without a parameter\u001b[39;00m\n\u001b[1;32m----> 3\u001b[0m print_square()\n",
      "\u001b[1;31mTypeError\u001b[0m: print_square() missing 1 required positional argument: 'number'"
     ]
    }
   ],
   "source": [
    "# call it without a parameter\n",
    "\n",
    "print_square()"
   ]
  },
  {
   "cell_type": "code",
   "execution_count": 37,
   "id": "1be5198d-df69-4629-9cd1-acd2a6fb41f5",
   "metadata": {},
   "outputs": [
    {
     "name": "stdout",
     "output_type": "stream",
     "text": [
      "36\n"
     ]
    }
   ],
   "source": [
    "print_square(6)"
   ]
  },
  {
   "cell_type": "code",
   "execution_count": 38,
   "id": "dc39cb52-bf1d-4070-ae82-d88b6a4c35d9",
   "metadata": {},
   "outputs": [
    {
     "name": "stdout",
     "output_type": "stream",
     "text": [
      "64\n"
     ]
    }
   ],
   "source": [
    "print_square(8)"
   ]
  },
  {
   "cell_type": "code",
   "execution_count": 39,
   "id": "ff53f107-d38b-4b80-8e9c-61762b33cdb0",
   "metadata": {},
   "outputs": [
    {
     "name": "stdout",
     "output_type": "stream",
     "text": [
      "9\n"
     ]
    }
   ],
   "source": [
    "print_square(3)"
   ]
  },
  {
   "cell_type": "code",
   "execution_count": 40,
   "id": "1cf25450-c706-4108-931b-7b0bb396fcfa",
   "metadata": {},
   "outputs": [],
   "source": [
    "# Example: \n",
    "\n",
    "# Define a function fn that takes 2 parameters\n",
    "# Parameters: short, long\n",
    "# Function will print the area of rectangle\n",
    "\n",
    "def area_of_rectangle(short, long):\n",
    "    # area -> assign to a variable \n",
    "    area = short * long\n",
    "\n",
    "    # print the area\n",
    "    print(area)"
   ]
  },
  {
   "cell_type": "code",
   "execution_count": 41,
   "id": "374cfa0b-5b55-4e37-aa69-895050f2100d",
   "metadata": {},
   "outputs": [
    {
     "name": "stdout",
     "output_type": "stream",
     "text": [
      "24\n"
     ]
    }
   ],
   "source": [
    "\n",
    "# call with two parameters\n",
    "\n",
    "area_of_rectangle(4, 6)\n"
   ]
  },
  {
   "cell_type": "code",
   "execution_count": 42,
   "id": "8d22478b-ccf8-4151-9a0d-ccec6f24c2e1",
   "metadata": {},
   "outputs": [
    {
     "name": "stdout",
     "output_type": "stream",
     "text": [
      "24\n"
     ]
    }
   ],
   "source": [
    "s = 4\n",
    "u = 6\n",
    "\n",
    "area_of_rectangle(s, u)"
   ]
  },
  {
   "cell_type": "code",
   "execution_count": 60,
   "id": "ba7d88fd-8e81-4cef-975a-3f5348f04a5b",
   "metadata": {},
   "outputs": [],
   "source": [
    "# Example:\n",
    "\n",
    "# Let's make student_data function as parametric\n",
    "\n",
    "# first name\n",
    "def student_firstname(first):\n",
    "    print(\"Name: \" + first)\n",
    "\n",
    "# last name\n",
    "def student_lastname(last):\n",
    "    print(\"Lastname: \" + last)\n",
    "\n",
    "# Age\n",
    "def student_age(age):\n",
    "    print(\"Age: \" + str(age))\n",
    "\n",
    "# Language\n",
    "def student_language(lang):\n",
    "    print(\"Language: \" + str(lang))\n",
    "\n",
    "def student_data(firstname, lastname, age, language):\n",
    "    student_firstname(firstname)\n",
    "    student_lastname(lastname)\n",
    "    student_age(age)\n",
    "    student_language(language)\n",
    "    "
   ]
  },
  {
   "cell_type": "code",
   "execution_count": 45,
   "id": "050d1128-4a5a-411a-8d42-28cf5f3d97e6",
   "metadata": {},
   "outputs": [
    {
     "ename": "TypeError",
     "evalue": "student_firstname() takes 0 positional arguments but 1 was given",
     "output_type": "error",
     "traceback": [
      "\u001b[1;31m---------------------------------------------------------------------------\u001b[0m",
      "\u001b[1;31mTypeError\u001b[0m                                 Traceback (most recent call last)",
      "Cell \u001b[1;32mIn[45], line 6\u001b[0m\n\u001b[0;32m      3\u001b[0m age \u001b[38;5;241m=\u001b[39m \u001b[38;5;124m\"\u001b[39m\u001b[38;5;124m28\u001b[39m\u001b[38;5;124m\"\u001b[39m\n\u001b[0;32m      4\u001b[0m lang \u001b[38;5;241m=\u001b[39m \u001b[38;5;124m\"\u001b[39m\u001b[38;5;124mPython\u001b[39m\u001b[38;5;124m\"\u001b[39m\n\u001b[1;32m----> 6\u001b[0m student_data(first, last, age, lang)\n",
      "Cell \u001b[1;32mIn[44], line 10\u001b[0m, in \u001b[0;36mstudent_data\u001b[1;34m(firstname, lastname, age, language)\u001b[0m\n\u001b[0;32m      9\u001b[0m \u001b[38;5;28;01mdef\u001b[39;00m \u001b[38;5;21mstudent_data\u001b[39m(firstname, lastname, age, language):\n\u001b[1;32m---> 10\u001b[0m     student_firstname(firstname)\n",
      "\u001b[1;31mTypeError\u001b[0m: student_firstname() takes 0 positional arguments but 1 was given"
     ]
    }
   ],
   "source": [
    "first = \"Klark\"\n",
    "last = \"Kent\"\n",
    "age = \"28\"\n",
    "lang = \"Python\"\n",
    "\n",
    "student_data(first, last, age, lang)"
   ]
  },
  {
   "cell_type": "code",
   "execution_count": 61,
   "id": "01fc0339-a273-425e-863f-5dc98bca562c",
   "metadata": {},
   "outputs": [
    {
     "name": "stdout",
     "output_type": "stream",
     "text": [
      "Name: Klark\n",
      "Lastname: Kent\n",
      "Age: 28\n",
      "Language: Python\n"
     ]
    }
   ],
   "source": [
    "first = \"Klark\"\n",
    "last = \"Kent\"\n",
    "age = 28\n",
    "lang = \"Python\"\n",
    "\n",
    "student_data(first, last, age, lang)"
   ]
  },
  {
   "cell_type": "code",
   "execution_count": null,
   "id": "034e724d-0a14-4785-a4f4-4e6188558421",
   "metadata": {},
   "outputs": [],
   "source": []
  }
 ],
 "metadata": {
  "kernelspec": {
   "display_name": "Python 3 (ipykernel)",
   "language": "python",
   "name": "python3"
  },
  "language_info": {
   "codemirror_mode": {
    "name": "ipython",
    "version": 3
   },
   "file_extension": ".py",
   "mimetype": "text/x-python",
   "name": "python",
   "nbconvert_exporter": "python",
   "pygments_lexer": "ipython3",
   "version": "3.12.4"
  }
 },
 "nbformat": 4,
 "nbformat_minor": 5
}
