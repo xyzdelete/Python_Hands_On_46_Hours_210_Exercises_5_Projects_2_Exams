{
 "cells": [
  {
   "cell_type": "markdown",
   "id": "beginning-server",
   "metadata": {},
   "source": [
    "## [10 Questions] QUIZ - Functions I"
   ]
  },
  {
   "cell_type": "markdown",
   "id": "speaking-inventory",
   "metadata": {},
   "source": [
    "**Q 1:**\n",
    "\n",
    "Define a function that prints \"Hello World!\"."
   ]
  },
  {
   "cell_type": "code",
   "execution_count": 2,
   "id": "flush-ambassador",
   "metadata": {},
   "outputs": [
    {
     "name": "stdout",
     "output_type": "stream",
     "text": [
      "Hello World!\n"
     ]
    }
   ],
   "source": [
    "# S 1:\n",
    "\n",
    "def first_function():\n",
    "    print(\"Hello World!\")\n",
    "\n",
    "# call function\n",
    "first_function()"
   ]
  },
  {
   "cell_type": "markdown",
   "id": "banned-delivery",
   "metadata": {},
   "source": [
    "---"
   ]
  },
  {
   "cell_type": "markdown",
   "id": "metric-effect",
   "metadata": {},
   "source": [
    "**Q 2:**\n",
    "\n",
    "Define a function named **say_hello** that takes two string parameters.\n",
    "\n",
    "We will assume this parameters be two seperate names. (name_1 and name_2)\n",
    "\n",
    "Function will concatenate these names with \"and\".\n",
    "\n",
    "Then it will print as:\n",
    "\n",
    "\"Hello name_1 and name_2.\"\n",
    "\n",
    "Ex: Hello Clark Kent and Superman.\n",
    "\n",
    "Hints:\n",
    "* use string.format() function."
   ]
  },
  {
   "cell_type": "code",
   "execution_count": 42,
   "id": "figured-insurance",
   "metadata": {},
   "outputs": [
    {
     "name": "stdout",
     "output_type": "stream",
     "text": [
      "Hello Clark Kent and Superman\n",
      "Hello Bruce Wayne and Batman\n",
      "Hello Peter Parker and Spiderman\n"
     ]
    }
   ],
   "source": [
    "# S 2:\n",
    "\n",
    "# 1\n",
    "def say_hello(name_1, name_2):\n",
    "    print(\"Hello \" + str(name_1) + \" and \" + str(name_2))\n",
    "\n",
    "# 2\n",
    "def say_hello(name_1, name_2):\n",
    "    print(\"Hello {0} and {1}\".format(name_1, name_2))\n",
    "\n",
    "# call the function\n",
    "say_hello(\"Clark Kent\" ,\"Superman\")\n",
    "say_hello(\"Bruce Wayne\" ,\"Batman\")\n",
    "say_hello(\"Peter Parker\" ,\"Spiderman\")"
   ]
  },
  {
   "cell_type": "markdown",
   "id": "boring-forward",
   "metadata": {},
   "source": [
    "---"
   ]
  },
  {
   "cell_type": "markdown",
   "id": "signal-background",
   "metadata": {},
   "source": [
    "**Q 3:**\n",
    "\n",
    "Define a function that asks user to enter his/her name.\n",
    "\n",
    "This function will print as:\n",
    "\"Hi name.\"\n",
    "\n",
    "Hints:\n",
    "* to get input from user -> input()"
   ]
  },
  {
   "cell_type": "code",
   "execution_count": 10,
   "id": "motivated-beatles",
   "metadata": {},
   "outputs": [
    {
     "name": "stdout",
     "output_type": "stream",
     "text": [
      "Please enter your name:\n"
     ]
    },
    {
     "name": "stdin",
     "output_type": "stream",
     "text": [
      " Arturs Anikins\n"
     ]
    },
    {
     "name": "stdout",
     "output_type": "stream",
     "text": [
      "Hi Arturs Anikins\n"
     ]
    }
   ],
   "source": [
    "# S 3:\n",
    "\n",
    "def say_my_name():\n",
    "    print(\"Please enter your name:\")\n",
    "    name = input()\n",
    "    print(\"Hi \" + str(name))\n",
    "\n",
    "    \n",
    "# function call\n",
    "say_my_name()"
   ]
  },
  {
   "cell_type": "markdown",
   "id": "usual-plaza",
   "metadata": {},
   "source": [
    "---"
   ]
  },
  {
   "cell_type": "markdown",
   "id": "theoretical-poland",
   "metadata": {},
   "source": [
    "**Q 4:**\n",
    "\n",
    "Define a function taking 3 parameters as integer.\n",
    "\n",
    "Function will return the maximum of these three numbers.\n",
    "\n",
    "Add a docstring for this function.\n",
    "\n",
    "Hints:\n",
    "* Python has max() built-in function"
   ]
  },
  {
   "cell_type": "code",
   "execution_count": 13,
   "id": "stylish-demographic",
   "metadata": {},
   "outputs": [
    {
     "name": "stdout",
     "output_type": "stream",
     "text": [
      "82\n",
      "Help on function get_max in module __main__:\n",
      "\n",
      "get_max(a, b, c)\n",
      "    Does: Returns the maximum of these three numbers\n",
      "    Parameters: 3 parameters as integer\n",
      "    Returns: Function will return the maximum of these three numbers\n",
      "\n",
      "\n",
      "        Does: Returns the maximum of these three numbers\n",
      "        Parameters: 3 parameters as integer\n",
      "        Returns: Function will return the maximum of these three numbers\n",
      "    \n"
     ]
    }
   ],
   "source": [
    "# S 4:\n",
    "\n",
    "def get_max(a, b, c):\n",
    "    \"\"\"\n",
    "        Does: Returns the maximum of these three numbers\n",
    "        Parameters: 3 parameters as integer\n",
    "        Returns: Function will return the maximum of these three numbers\n",
    "    \"\"\"\n",
    "    return max(a, b, c)\n",
    "\n",
    "# call function -> get the returned value and print\n",
    "max_number = get_max(4, 82, 19)\n",
    "print(max_number)\n",
    "\n",
    "# docstring\n",
    "help(get_max)\n",
    "print(get_max.__doc__)"
   ]
  },
  {
   "cell_type": "markdown",
   "id": "centered-liquid",
   "metadata": {},
   "source": [
    "---"
   ]
  },
  {
   "cell_type": "markdown",
   "id": "regulation-gamma",
   "metadata": {},
   "source": [
    "**Q 5:**\n",
    "\n",
    "Define a function that takes a string parameter.\n",
    "\n",
    "Function will remove spaces at the beginning and at the end of the string,\n",
    "then it will convert the string into lower case. \n",
    "\n",
    "Hints:\n",
    " * to remove spaces: strip()\n",
    " * to convert lowercase: lower()"
   ]
  },
  {
   "cell_type": "code",
   "execution_count": 17,
   "id": "romantic-laptop",
   "metadata": {},
   "outputs": [
    {
     "name": "stdout",
     "output_type": "stream",
     "text": [
      "python machine learning\n"
     ]
    }
   ],
   "source": [
    "# S 5:\n",
    "\n",
    "def strip_and_lower(str):\n",
    "    return str.strip().lower()    \n",
    "\n",
    "# function call\n",
    "txt = \"    PyThon MaCHine LeARning   \"\n",
    "final_txt = strip_and_lower(txt)\n",
    "print(final_txt)"
   ]
  },
  {
   "cell_type": "markdown",
   "id": "useful-september",
   "metadata": {},
   "source": [
    "---"
   ]
  },
  {
   "cell_type": "markdown",
   "id": "interested-feeling",
   "metadata": {},
   "source": [
    "**Q 6:**\n",
    "\n",
    "Define a function which takes two integer parameters.\n",
    "\n",
    "The function will return the sum of these parameters."
   ]
  },
  {
   "cell_type": "code",
   "execution_count": 18,
   "id": "numerous-warrior",
   "metadata": {},
   "outputs": [
    {
     "name": "stdout",
     "output_type": "stream",
     "text": [
      "65\n"
     ]
    }
   ],
   "source": [
    "# S 6:\n",
    "\n",
    "def add(a, b):\n",
    "    return a + b\n",
    "\n",
    "# function call\n",
    "n_1 = 45\n",
    "n_2 = 20\n",
    "addition = add(n_1, n_2)\n",
    "print(addition)\n"
   ]
  },
  {
   "cell_type": "markdown",
   "id": "destroyed-gabriel",
   "metadata": {},
   "source": [
    "---"
   ]
  },
  {
   "cell_type": "markdown",
   "id": "necessary-franklin",
   "metadata": {},
   "source": [
    "**Q 7:**\n",
    "\n",
    "Define a function taking 3 numeric parameters.\n",
    "\n",
    "Function will calculate the difference between each pairs.\n",
    "\n",
    "And return the minimum of these differences.\n",
    "\n",
    "Hints:\n",
    "* Use absolute value to calculate difference -> abs  (absolute value)\n",
    "* To get minimum -> min()"
   ]
  },
  {
   "cell_type": "code",
   "execution_count": 24,
   "id": "demographic-australia",
   "metadata": {},
   "outputs": [
    {
     "name": "stdout",
     "output_type": "stream",
     "text": [
      "2\n"
     ]
    }
   ],
   "source": [
    "# S 7:\n",
    "\n",
    "def minimum_difference(a, b, c):\n",
    "    return min(\n",
    "        abs(a - b),\n",
    "        abs(a - c),\n",
    "        abs(b - a),\n",
    "        abs(b - c),\n",
    "        abs(c - a),\n",
    "        abs(c - b)\n",
    "    )\n",
    "    \n",
    "\n",
    "# function call\n",
    "a = 8\n",
    "b = 5\n",
    "c = 10\n",
    "min_diff = minimum_difference(a, b, c)\n",
    "print(min_diff)"
   ]
  },
  {
   "cell_type": "markdown",
   "id": "charged-thursday",
   "metadata": {},
   "source": [
    "---"
   ]
  },
  {
   "cell_type": "markdown",
   "id": "brave-librarian",
   "metadata": {},
   "source": [
    "**Q 8:**\n",
    "\n",
    "Define a function taking an integere parameter.\n",
    "\n",
    "Function will return the square root of this parameter.\n",
    "\n",
    "Hints:\n",
    "* Square Root -> math.sqrt()"
   ]
  },
  {
   "cell_type": "code",
   "execution_count": 29,
   "id": "unknown-setting",
   "metadata": {},
   "outputs": [
    {
     "name": "stdout",
     "output_type": "stream",
     "text": [
      "9.0\n"
     ]
    }
   ],
   "source": [
    "# S 8:\n",
    "\n",
    "import math\n",
    "\n",
    "def square_root(num):\n",
    "    return math.sqrt(num)\n",
    "\n",
    "\n",
    "# function call\n",
    "num = 81\n",
    "sqr = square_root(num)\n",
    "print(sqr)\n"
   ]
  },
  {
   "cell_type": "markdown",
   "id": "sacred-smooth",
   "metadata": {},
   "source": [
    "---"
   ]
  },
  {
   "cell_type": "markdown",
   "id": "signal-inventory",
   "metadata": {},
   "source": [
    "**Q 9:**\n",
    "\n",
    "Define a function taking a numeric parameter.\n",
    "\n",
    "Function will return the logarithm of this function.\n",
    "\n",
    "Hints:\n",
    "* logarithm -> math.log()"
   ]
  },
  {
   "cell_type": "code",
   "execution_count": 30,
   "id": "round-campbell",
   "metadata": {},
   "outputs": [
    {
     "name": "stdout",
     "output_type": "stream",
     "text": [
      "2.4849066497880004\n"
     ]
    }
   ],
   "source": [
    "# S 9:\n",
    "\n",
    "def get_logarithm(num):\n",
    "    return math.log(num)\n",
    "\n",
    "\n",
    "# function call\n",
    "# n = 12\n",
    "# log = get_logarithm(n)\n",
    "# print(log)\n",
    "\n",
    "print(get_logarithm(12))\n"
   ]
  },
  {
   "cell_type": "markdown",
   "id": "according-reynolds",
   "metadata": {},
   "source": [
    "---"
   ]
  },
  {
   "cell_type": "markdown",
   "id": "eastern-breakdown",
   "metadata": {},
   "source": [
    "**Q 10:**\n",
    "\n",
    "Define a function taking to numeric parameters.\n",
    "\n",
    "Let's assume these numbers are two sides of a right triangle.\n",
    "\n",
    "The function will return the hypotenuse of this triangle.\n",
    "\n",
    "Hints:\n",
    "\n",
    "$$ hipo^2 = a^2 + b^2 $$"
   ]
  },
  {
   "cell_type": "code",
   "execution_count": 33,
   "id": "timely-black",
   "metadata": {},
   "outputs": [
    {
     "name": "stdout",
     "output_type": "stream",
     "text": [
      "5.0\n",
      "25.0\n",
      "17.0\n"
     ]
    }
   ],
   "source": [
    "# S 10:\n",
    "\n",
    "def hypotenuse(a, b):\n",
    "    return (a ** 2 + b ** 2 ) ** ( 1 / 2 )\n",
    "    \n",
    "\n",
    "# function call\n",
    "# 3-4-5 triangle\n",
    "print(hypotenuse(3, 4))\n",
    "  \n",
    "# 7-24-25 triangle\n",
    "print(hypotenuse(7, 24))\n",
    "\n",
    "# 8-15-17 triangle\n",
    "print(hypotenuse(8, 15))"
   ]
  },
  {
   "cell_type": "code",
   "execution_count": null,
   "id": "dimensional-kinase",
   "metadata": {},
   "outputs": [],
   "source": []
  }
 ],
 "metadata": {
  "kernelspec": {
   "display_name": "Python 3 (ipykernel)",
   "language": "python",
   "name": "python3"
  },
  "language_info": {
   "codemirror_mode": {
    "name": "ipython",
    "version": 3
   },
   "file_extension": ".py",
   "mimetype": "text/x-python",
   "name": "python",
   "nbconvert_exporter": "python",
   "pygments_lexer": "ipython3",
   "version": "3.12.4"
  }
 },
 "nbformat": 4,
 "nbformat_minor": 5
}
